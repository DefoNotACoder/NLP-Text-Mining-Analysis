{
 "cells": [
  {
   "cell_type": "markdown",
   "id": "02c61328-d05c-4068-82be-4f5e61d424b1",
   "metadata": {},
   "source": [
    "# Installing Libraries"
   ]
  },
  {
   "cell_type": "code",
   "execution_count": 2,
   "id": "f3dde388-58e7-449c-9ad2-6445bc9eafeb",
   "metadata": {},
   "outputs": [
    {
     "name": "stderr",
     "output_type": "stream",
     "text": [
      "[nltk_data] Downloading package punkt to\n",
      "[nltk_data]     /Users/karthikeyana/nltk_data...\n",
      "[nltk_data]   Package punkt is already up-to-date!\n",
      "[nltk_data] Downloading package stopwords to\n",
      "[nltk_data]     /Users/karthikeyana/nltk_data...\n",
      "[nltk_data]   Package stopwords is already up-to-date!\n",
      "[nltk_data] Downloading package wordnet to\n",
      "[nltk_data]     /Users/karthikeyana/nltk_data...\n",
      "[nltk_data]   Package wordnet is already up-to-date!\n"
     ]
    },
    {
     "data": {
      "text/plain": [
       "True"
      ]
     },
     "execution_count": 2,
     "metadata": {},
     "output_type": "execute_result"
    }
   ],
   "source": [
    "import pandas as pd\n",
    "import re\n",
    "import string\n",
    "import nltk\n",
    "from nltk.corpus import stopwords\n",
    "from nltk.tokenize import word_tokenize\n",
    "from nltk.stem import WordNetLemmatizer\n",
    "from spellchecker import SpellChecker\n",
    "from langdetect import detect\n",
    "from googletrans import Translator\n",
    "import pandas as pd\n",
    "from sklearn.feature_extraction.text import CountVectorizer\n",
    "from sklearn.decomposition import LatentDirichletAllocation\n",
    "import matplotlib.pyplot as plt\n",
    "from gensim.models import CoherenceModel\n",
    "from gensim.corpora import Dictionary\n",
    "import pickle\n",
    "from tqdm import tqdm\n",
    "import time\n",
    "from gensim.models import LdaMulticore\n",
    "\n",
    "# Download necessary NLTK data\n",
    "nltk.download('punkt')\n",
    "nltk.download('stopwords')\n",
    "nltk.download('wordnet')"
   ]
  },
  {
   "cell_type": "markdown",
   "id": "3a993882-01ca-450a-b894-7c94a5ae45eb",
   "metadata": {},
   "source": [
    "# Data Pre-processing"
   ]
  },
  {
   "cell_type": "code",
   "execution_count": 2,
   "id": "822080e6-30aa-441b-9276-9256da534a5f",
   "metadata": {},
   "outputs": [],
   "source": [
    "# Initialize the spell checker and translator\n",
    "spell = SpellChecker()\n",
    "translator = Translator()"
   ]
  },
  {
   "cell_type": "code",
   "execution_count": 3,
   "id": "99da8f17-2475-4bbf-9083-8bb8be522675",
   "metadata": {},
   "outputs": [],
   "source": [
    "# Load the data\n",
    "file_path = '/Users/karthikeyana/Desktop/Trimester IV/NLP/NLP Project/Reviews.csv'\n",
    "df = pd.read_csv(file_path)"
   ]
  },
  {
   "cell_type": "code",
   "execution_count": 4,
   "id": "da8b5c8a-6652-41c6-bd43-253884698dbd",
   "metadata": {},
   "outputs": [
    {
     "data": {
      "text/html": [
       "<div>\n",
       "<style scoped>\n",
       "    .dataframe tbody tr th:only-of-type {\n",
       "        vertical-align: middle;\n",
       "    }\n",
       "\n",
       "    .dataframe tbody tr th {\n",
       "        vertical-align: top;\n",
       "    }\n",
       "\n",
       "    .dataframe thead th {\n",
       "        text-align: right;\n",
       "    }\n",
       "</style>\n",
       "<table border=\"1\" class=\"dataframe\">\n",
       "  <thead>\n",
       "    <tr style=\"text-align: right;\">\n",
       "      <th></th>\n",
       "      <th>review</th>\n",
       "      <th>score</th>\n",
       "    </tr>\n",
       "  </thead>\n",
       "  <tbody>\n",
       "    <tr>\n",
       "      <th>0</th>\n",
       "      <td>I have gotten more likes on here than other a...</td>\n",
       "      <td>3</td>\n",
       "    </tr>\n",
       "    <tr>\n",
       "      <th>1</th>\n",
       "      <td>- (11/16/22) why are we here - (11/30/22) I th...</td>\n",
       "      <td>2</td>\n",
       "    </tr>\n",
       "    <tr>\n",
       "      <th>2</th>\n",
       "      <td>- 0 rate - On the website, it says if u delete...</td>\n",
       "      <td>1</td>\n",
       "    </tr>\n",
       "    <tr>\n",
       "      <th>3</th>\n",
       "      <td>- 3 stars already for the fact i just got on i...</td>\n",
       "      <td>2</td>\n",
       "    </tr>\n",
       "    <tr>\n",
       "      <th>4</th>\n",
       "      <td>- A minha conta simplesmente foi banida sem eu...</td>\n",
       "      <td>1</td>\n",
       "    </tr>\n",
       "  </tbody>\n",
       "</table>\n",
       "</div>"
      ],
      "text/plain": [
       "                                              review  score\n",
       "0   I have gotten more likes on here than other a...      3\n",
       "1  - (11/16/22) why are we here - (11/30/22) I th...      2\n",
       "2  - 0 rate - On the website, it says if u delete...      1\n",
       "3  - 3 stars already for the fact i just got on i...      2\n",
       "4  - A minha conta simplesmente foi banida sem eu...      1"
      ]
     },
     "execution_count": 4,
     "metadata": {},
     "output_type": "execute_result"
    }
   ],
   "source": [
    "df.head()"
   ]
  },
  {
   "cell_type": "code",
   "execution_count": 5,
   "id": "94e4e606-c034-4ad4-a254-37193138d541",
   "metadata": {},
   "outputs": [],
   "source": [
    "# Assuming the column with reviews is named 'review'\n",
    "reviews = df['review']"
   ]
  },
  {
   "cell_type": "markdown",
   "id": "7f714a87-2d5e-4618-bc30-c86277d3baab",
   "metadata": {},
   "source": [
    "## Data Cleaning"
   ]
  },
  {
   "cell_type": "code",
   "execution_count": 6,
   "id": "3a5818ed-a59c-42dd-b5bf-b309f05a94fc",
   "metadata": {},
   "outputs": [],
   "source": [
    "# Define a function for converting Hindi slangs to English words\n",
    "def convert_hindi_slangs(text):\n",
    "    hindi_slangs = {\n",
    "        \"accha\": \"good\",\n",
    "        \"kya\": \"what\",\n",
    "        \"hai\": \"is\",\n",
    "        \"nahi\": \"no\",\n",
    "        \"kaise\": \"how\",\n",
    "        \"haan\": \"yes\",\n",
    "        # Add more as needed\n",
    "    }\n",
    "    for hindi, english in hindi_slangs.items():\n",
    "        text = re.sub(r'\\b' + hindi + r'\\b', english, text)\n",
    "    return text\n",
    "\n",
    "# Define a function for text cleaning\n",
    "def clean_text(text):\n",
    "    # Convert to lowercase\n",
    "    text = text.lower()\n",
    "    # Remove URLs\n",
    "    text = re.sub(r'http\\S+|www\\S+|https\\S+', '', text, flags=re.MULTILINE)\n",
    "    # Remove HTML tags\n",
    "    text = re.sub(r'<.*?>', '', text)\n",
    "    # Remove punctuation and special characters\n",
    "    text = text.translate(str.maketrans('', '', string.punctuation))\n",
    "    # Remove numbers\n",
    "    text = ''.join([i for i in text if not i.isdigit()])\n",
    "    # Convert Hindi slangs to English\n",
    "    text = convert_hindi_slangs(text)\n",
    "    return text\n",
    "\n",
    "# Function to correct spelling\n",
    "def correct_spelling(text):\n",
    "    if pd.isnull(text):\n",
    "        return text\n",
    "    corrected_text = []\n",
    "    for word in text.split():\n",
    "        corrected_word = spell.correction(word)\n",
    "        if corrected_word:\n",
    "            corrected_text.append(corrected_word)\n",
    "        else:\n",
    "            corrected_text.append(word)\n",
    "    return ' '.join(corrected_text)"
   ]
  },
  {
   "cell_type": "code",
   "execution_count": 12,
   "id": "afc9a48b-edbc-427e-8cd5-2c5f574e80c7",
   "metadata": {},
   "outputs": [],
   "source": [
    "# Clean the reviews\n",
    "df['cleaned_reviews'] = df['review'].apply(clean_text)"
   ]
  },
  {
   "cell_type": "code",
   "execution_count": null,
   "id": "40b6c54b-f819-4a67-a2e4-bd179ad57549",
   "metadata": {},
   "outputs": [
    {
     "name": "stderr",
     "output_type": "stream",
     "text": [
      "Spell Checking:   0%|                        | 1/201 [01:51<6:13:09, 111.95s/it]"
     ]
    },
    {
     "name": "stdout",
     "output_type": "stream",
     "text": [
      "Processed up to review 500\n"
     ]
    },
    {
     "name": "stderr",
     "output_type": "stream",
     "text": [
      "Spell Checking:   1%|▏                       | 2/201 [05:10<9:00:39, 163.01s/it]"
     ]
    },
    {
     "name": "stdout",
     "output_type": "stream",
     "text": [
      "Processed up to review 1000\n"
     ]
    },
    {
     "name": "stderr",
     "output_type": "stream",
     "text": [
      "Spell Checking:   1%|▎                       | 3/201 [07:46<8:46:33, 159.56s/it]"
     ]
    },
    {
     "name": "stdout",
     "output_type": "stream",
     "text": [
      "Processed up to review 1500\n"
     ]
    },
    {
     "name": "stderr",
     "output_type": "stream",
     "text": [
      "Spell Checking:   2%|▍                      | 4/201 [13:21<12:31:42, 228.95s/it]"
     ]
    },
    {
     "name": "stdout",
     "output_type": "stream",
     "text": [
      "Processed up to review 2000\n"
     ]
    },
    {
     "name": "stderr",
     "output_type": "stream",
     "text": [
      "Spell Checking:   2%|▌                       | 5/201 [14:58<9:52:00, 181.23s/it]"
     ]
    },
    {
     "name": "stdout",
     "output_type": "stream",
     "text": [
      "Processed up to review 2500\n"
     ]
    },
    {
     "name": "stderr",
     "output_type": "stream",
     "text": [
      "Spell Checking:   3%|▋                       | 6/201 [16:47<8:29:33, 156.79s/it]"
     ]
    },
    {
     "name": "stdout",
     "output_type": "stream",
     "text": [
      "Processed up to review 3000\n"
     ]
    },
    {
     "name": "stderr",
     "output_type": "stream",
     "text": [
      "Spell Checking:   3%|▊                       | 7/201 [18:21<7:21:08, 136.44s/it]"
     ]
    },
    {
     "name": "stdout",
     "output_type": "stream",
     "text": [
      "Processed up to review 3500\n"
     ]
    }
   ],
   "source": [
    "# Correct spelling in reviews with checkpoints\n",
    "chunk_size = 500\n",
    "for start in tqdm(range(0, len(df), chunk_size), desc=\"Spell Checking\"):\n",
    "    end = start + chunk_size\n",
    "    df.loc[start:end, 'corrected_reviews'] = df.loc[start:end, 'cleaned_reviews'].apply(correct_spelling)\n",
    "    print(f\"Processed up to review {end}\")"
   ]
  },
  {
   "cell_type": "code",
   "execution_count": null,
   "id": "d2de1b98-a535-4d53-9f89-2b80f13981a3",
   "metadata": {},
   "outputs": [],
   "source": [
    "# Define a function for tokenizing and removing stopwords\n",
    "def tokenize_and_remove_stopwords(text):\n",
    "    tokens = word_tokenize(text)\n",
    "    stop_words = set(stopwords.words('english'))\n",
    "    filtered_tokens = [word for word in tokens if word not in stop_words]\n",
    "    return filtered_tokens"
   ]
  },
  {
   "cell_type": "code",
   "execution_count": null,
   "id": "c46900b4-dbd9-4972-b7f2-f67504b22941",
   "metadata": {},
   "outputs": [],
   "source": [
    "# Tokenize and remove stopwords\n",
    "tokenized_reviews = corrected_reviews.apply(tokenize_and_remove_stopwords)\n",
    "\n",
    "# Define a function for lemmatizing\n",
    "lemmatizer = WordNetLemmatizer()\n",
    "\n",
    "def lemmatize_tokens(tokens):\n",
    "    lemmatized_tokens = [lemmatizer.lemmatize(token) for token in tokens]\n",
    "    return lemmatized_tokens\n",
    "\n",
    "# Lemmatize the tokens\n",
    "processed_tokens = tokenized_reviews.apply(lemmatize_tokens)"
   ]
  },
  {
   "cell_type": "code",
   "execution_count": null,
   "id": "560c20b4-57ba-4e92-8adb-81f169a058b3",
   "metadata": {},
   "outputs": [],
   "source": [
    "# Save preprocessed data\n",
    "df['cleaned_review'] = processed_tokens.apply(lambda x: ' '.join(x))\n",
    "df.to_csv('/Users/karthikeyana/Desktop/Trimester IV/NLP/NLP Project/preprocessed_reviews.csv', index=False)\n",
    "\n",
    "print(\"Data cleaning and preprocessing complete. Data saved to 'preprocessed_reviews.csv'.\")"
   ]
  },
  {
   "cell_type": "markdown",
   "id": "8e5bd841-2283-4763-8a67-43bbfb4c966e",
   "metadata": {},
   "source": [
    "## Optimal Number of Topics"
   ]
  },
  {
   "cell_type": "code",
   "execution_count": null,
   "id": "641338d6-4aac-41e3-9103-df4a8b6b7060",
   "metadata": {},
   "outputs": [],
   "source": [
    "#**Finding Optimal Number of Topic**"
   ]
  },
  {
   "cell_type": "code",
   "execution_count": 2,
   "id": "f76faf9b-89e9-494e-af95-ec31d96bb507",
   "metadata": {},
   "outputs": [],
   "source": [
    "# Load the preprocessed data\n",
    "df = pd.read_csv('/Users/karthikeyana/Desktop/Trimester IV/NLP/NLP Project/preprocessed_reviews.csv')"
   ]
  },
  {
   "cell_type": "code",
   "execution_count": 3,
   "id": "1b56e912-fe0f-4e24-87b7-336233341ee8",
   "metadata": {},
   "outputs": [
    {
     "data": {
      "text/html": [
       "<div>\n",
       "<style scoped>\n",
       "    .dataframe tbody tr th:only-of-type {\n",
       "        vertical-align: middle;\n",
       "    }\n",
       "\n",
       "    .dataframe tbody tr th {\n",
       "        vertical-align: top;\n",
       "    }\n",
       "\n",
       "    .dataframe thead th {\n",
       "        text-align: right;\n",
       "    }\n",
       "</style>\n",
       "<table border=\"1\" class=\"dataframe\">\n",
       "  <thead>\n",
       "    <tr style=\"text-align: right;\">\n",
       "      <th></th>\n",
       "      <th>review</th>\n",
       "      <th>score</th>\n",
       "      <th>cleaned_reviews</th>\n",
       "      <th>corrected_reviews</th>\n",
       "      <th>cleaned_review</th>\n",
       "    </tr>\n",
       "  </thead>\n",
       "  <tbody>\n",
       "    <tr>\n",
       "      <th>0</th>\n",
       "      <td>I have gotten more likes on here than other a...</td>\n",
       "      <td>3</td>\n",
       "      <td>i have gotten more likes on here than other a...</td>\n",
       "      <td>i have gotten more likes on here than other ap...</td>\n",
       "      <td>gotten like app compatibility rating allows mu...</td>\n",
       "    </tr>\n",
       "    <tr>\n",
       "      <th>1</th>\n",
       "      <td>- (11/16/22) why are we here - (11/30/22) I th...</td>\n",
       "      <td>2</td>\n",
       "      <td>why are we here   i threw money at the probl...</td>\n",
       "      <td>why are we here i threw money at the problem s...</td>\n",
       "      <td>threw money problem starting see steady progre...</td>\n",
       "    </tr>\n",
       "    <tr>\n",
       "      <th>2</th>\n",
       "      <td>- 0 rate - On the website, it says if u delete...</td>\n",
       "      <td>1</td>\n",
       "      <td>rate  on the website it says if u delete acc...</td>\n",
       "      <td>rate on the website it says if u delete accoun...</td>\n",
       "      <td>rate website say u delete account make new one...</td>\n",
       "    </tr>\n",
       "    <tr>\n",
       "      <th>3</th>\n",
       "      <td>- 3 stars already for the fact i just got on i...</td>\n",
       "      <td>2</td>\n",
       "      <td>stars already for the fact i just got on it ...</td>\n",
       "      <td>stars already for the fact i just got on it an...</td>\n",
       "      <td>star already fact got already getting fake not...</td>\n",
       "    </tr>\n",
       "    <tr>\n",
       "      <th>4</th>\n",
       "      <td>- A minha conta simplesmente foi banida sem eu...</td>\n",
       "      <td>1</td>\n",
       "      <td>a minha conta simplesmente foi banida sem eu ...</td>\n",
       "      <td>a mina conga simplesmente for band see e new h...</td>\n",
       "      <td>mina conga simplesmente band see e new posted ...</td>\n",
       "    </tr>\n",
       "  </tbody>\n",
       "</table>\n",
       "</div>"
      ],
      "text/plain": [
       "                                              review  score  \\\n",
       "0   I have gotten more likes on here than other a...      3   \n",
       "1  - (11/16/22) why are we here - (11/30/22) I th...      2   \n",
       "2  - 0 rate - On the website, it says if u delete...      1   \n",
       "3  - 3 stars already for the fact i just got on i...      2   \n",
       "4  - A minha conta simplesmente foi banida sem eu...      1   \n",
       "\n",
       "                                     cleaned_reviews  \\\n",
       "0   i have gotten more likes on here than other a...   \n",
       "1    why are we here   i threw money at the probl...   \n",
       "2    rate  on the website it says if u delete acc...   \n",
       "3    stars already for the fact i just got on it ...   \n",
       "4   a minha conta simplesmente foi banida sem eu ...   \n",
       "\n",
       "                                   corrected_reviews  \\\n",
       "0  i have gotten more likes on here than other ap...   \n",
       "1  why are we here i threw money at the problem s...   \n",
       "2  rate on the website it says if u delete accoun...   \n",
       "3  stars already for the fact i just got on it an...   \n",
       "4  a mina conga simplesmente for band see e new h...   \n",
       "\n",
       "                                      cleaned_review  \n",
       "0  gotten like app compatibility rating allows mu...  \n",
       "1  threw money problem starting see steady progre...  \n",
       "2  rate website say u delete account make new one...  \n",
       "3  star already fact got already getting fake not...  \n",
       "4  mina conga simplesmente band see e new posted ...  "
      ]
     },
     "execution_count": 3,
     "metadata": {},
     "output_type": "execute_result"
    }
   ],
   "source": [
    "df.head()"
   ]
  },
  {
   "cell_type": "code",
   "execution_count": 4,
   "id": "f73802c9-49b7-49d7-81a8-02ff2ee2c9c6",
   "metadata": {},
   "outputs": [
    {
     "name": "stderr",
     "output_type": "stream",
     "text": [
      "[nltk_data] Downloading package punkt to\n",
      "[nltk_data]     /Users/karthikeyana/nltk_data...\n",
      "[nltk_data]   Package punkt is already up-to-date!\n"
     ]
    },
    {
     "data": {
      "text/plain": [
       "True"
      ]
     },
     "execution_count": 4,
     "metadata": {},
     "output_type": "execute_result"
    }
   ],
   "source": [
    "import pandas as pd\n",
    "import gensim\n",
    "from gensim import corpora\n",
    "from gensim.models import CoherenceModel\n",
    "import matplotlib.pyplot as plt\n",
    "import nltk\n",
    "from nltk.tokenize import word_tokenize\n",
    "\n",
    "# Ensure NLTK tokenizer is downloaded\n",
    "nltk.download('punkt')"
   ]
  },
  {
   "cell_type": "code",
   "execution_count": 5,
   "id": "b0178929-1d17-46a6-a077-fd5e14b371a0",
   "metadata": {},
   "outputs": [],
   "source": [
    "# Define the irrelevant words\n",
    "irrelevant_words = {'cant', 'not', 'phone', 'please', 'even', 'keep', 'log', 'get', 'lot', 'many', 'de','na','hi','ya','u','e','really','la','et'}\n",
    "\n",
    "# Convert the cleaned reviews to a list of tokens and filter out irrelevant words\n",
    "data = df['cleaned_review'].astype(str).apply(word_tokenize).tolist()\n",
    "filtered_data = [[word for word in text if word not in irrelevant_words] for text in data]\n",
    "\n",
    "# Create a dictionary and corpus from the filtered data\n",
    "dictionary = corpora.Dictionary(filtered_data)\n",
    "corpus = [dictionary.doc2bow(text) for text in filtered_data]\n",
    "\n"
   ]
  },
  {
   "cell_type": "code",
   "execution_count": 6,
   "id": "871114ef-df61-4d6e-8d6f-709af8df86d6",
   "metadata": {},
   "outputs": [],
   "source": [
    "# Function to compute coherence values with reduced chunk size and progress tracking\n",
    "def compute_coherence_values(dictionary, corpus, texts, start=2, limit=20, step=1):\n",
    "    coherence_values = []\n",
    "    model_list = []\n",
    "    num_models = (limit - start) // step\n",
    "    for i, num_topics in enumerate(range(start, limit, step)):\n",
    "        start_time = time.time()  # Start timing\n",
    "        print(f\"Processing model {i+1}/{num_models} with {num_topics} topics...\")\n",
    "        \n",
    "        model = gensim.models.LdaMulticore(corpus=corpus,\n",
    "                                           id2word=dictionary,\n",
    "                                           num_topics=num_topics,\n",
    "                                           random_state=100,\n",
    "                                           chunksize=400,  # Reduced chunk size\n",
    "                                           passes=4,\n",
    "                                           per_word_topics=True,\n",
    "                                           workers=6)\n",
    "        model_list.append(model)\n",
    "        coherencemodel = CoherenceModel(model=model, texts=texts, dictionary=dictionary, coherence='c_v')\n",
    "        coherence = coherencemodel.get_coherence()\n",
    "        coherence_values.append(coherence)\n",
    "        \n",
    "        # Calculate and display the percentage completed\n",
    "        percentage_completed = ((i + 1) / num_models) * 100\n",
    "        print(f\"Completed: {percentage_completed:.2f}%\")\n",
    "        \n",
    "        end_time = time.time()  # End timing\n",
    "        print(f\"Completed in {end_time - start_time:.2f} seconds.\")\n",
    "        \n",
    "    return model_list, coherence_values"
   ]
  },
  {
   "cell_type": "code",
   "execution_count": 15,
   "id": "54f41743-c474-48b6-9bd1-61cfba105208",
   "metadata": {},
   "outputs": [
    {
     "name": "stdout",
     "output_type": "stream",
     "text": [
      "Processing model 1/18 with 2 topics...\n",
      "Completed: 5.56%\n",
      "Completed in 36.90 seconds.\n",
      "Processing model 2/18 with 3 topics...\n",
      "Completed: 11.11%\n",
      "Completed in 37.02 seconds.\n",
      "Processing model 3/18 with 4 topics...\n",
      "Completed: 16.67%\n",
      "Completed in 43.69 seconds.\n",
      "Processing model 4/18 with 5 topics...\n",
      "Completed: 22.22%\n",
      "Completed in 44.53 seconds.\n",
      "Processing model 5/18 with 6 topics...\n",
      "Completed: 27.78%\n",
      "Completed in 45.06 seconds.\n",
      "Processing model 6/18 with 7 topics...\n",
      "Completed: 33.33%\n",
      "Completed in 41.40 seconds.\n",
      "Processing model 7/18 with 8 topics...\n",
      "Completed: 38.89%\n",
      "Completed in 41.95 seconds.\n",
      "Processing model 8/18 with 9 topics...\n",
      "Completed: 44.44%\n",
      "Completed in 41.76 seconds.\n",
      "Processing model 9/18 with 10 topics...\n",
      "Completed: 50.00%\n",
      "Completed in 42.64 seconds.\n",
      "Processing model 10/18 with 11 topics...\n",
      "Completed: 55.56%\n",
      "Completed in 43.98 seconds.\n",
      "Processing model 11/18 with 12 topics...\n",
      "Completed: 61.11%\n",
      "Completed in 43.28 seconds.\n",
      "Processing model 12/18 with 13 topics...\n",
      "Completed: 66.67%\n",
      "Completed in 46.57 seconds.\n",
      "Processing model 13/18 with 14 topics...\n",
      "Completed: 72.22%\n",
      "Completed in 42.78 seconds.\n",
      "Processing model 14/18 with 15 topics...\n",
      "Completed: 77.78%\n",
      "Completed in 43.67 seconds.\n",
      "Processing model 15/18 with 16 topics...\n",
      "Completed: 83.33%\n",
      "Completed in 44.65 seconds.\n",
      "Processing model 16/18 with 17 topics...\n",
      "Completed: 88.89%\n",
      "Completed in 45.50 seconds.\n",
      "Processing model 17/18 with 18 topics...\n",
      "Completed: 94.44%\n",
      "Completed in 48.31 seconds.\n",
      "Processing model 18/18 with 19 topics...\n",
      "Completed: 100.00%\n",
      "Completed in 49.42 seconds.\n"
     ]
    }
   ],
   "source": [
    "# Compute coherence scores\n",
    "model_list, coherence_values = compute_coherence_values(dictionary=dictionary, corpus=corpus, texts=data)"
   ]
  },
  {
   "cell_type": "code",
   "execution_count": 25,
   "id": "44225f42-9a27-4e1f-9733-d582c8995765",
   "metadata": {},
   "outputs": [
    {
     "data": {
      "image/png": "[encoded data removed]",
      "text/plain": [
       "<Figure size 1000x600 with 1 Axes>"
      ]
     },
     "metadata": {},
     "output_type": "display_data"
    }
   ],
   "source": [
    "import matplotlib.pyplot as plt\n",
    "\n",
    "# Assuming the range for x is set correctly for integer values of topics\n",
    "x = list(range(2, 20, 1))\n",
    "\n",
    "# Find the number of topics with the highest coherence score\n",
    "optimal_num_topics = x[coherence_values.index(max(coherence_values))]\n",
    "\n",
    "# Plotting coherence values\n",
    "plt.figure(figsize=(10, 6))\n",
    "plt.plot(x, coherence_values, marker='o')\n",
    "plt.xticks(x)  # Set x-axis to show integer values for number of topics\n",
    "plt.xlabel(\"Num Topics\")\n",
    "plt.ylabel(\"Coherence score (c_v)\")\n",
    "plt.title(\"Coherence score (c_v) vs Num Topics\")\n",
    "\n",
    "# Highlight the spike\n",
    "plt.axvline(x=optimal_num_topics, color='r', linestyle='--', linewidth=2)\n",
    "plt.annotate(f'Optimal number of topics: {optimal_num_topics}', \n",
    "             xy=(optimal_num_topics, max(coherence_values)), \n",
    "             xytext=(optimal_num_topics + 1, max(coherence_values) - 0.05),\n",
    "             arrowprops=dict(facecolor='black', shrink=0.05))\n",
    "\n",
    "plt.grid(True)\n",
    "plt.show()"
   ]
  },
  {
   "cell_type": "code",
   "execution_count": null,
   "id": "ff08d09c-ce52-4661-923d-6ace9aca3d76",
   "metadata": {},
   "outputs": [],
   "source": [
    "# Find the number of topics with the highest c_v coherence score\n",
    "optimal_num_topics = x[coherence_values.index(max(coherence_values))]\n",
    "print(f\"Optimal number of topics: {optimal_num_topics}\")"
   ]
  },
  {
   "cell_type": "code",
   "execution_count": 54,
   "id": "2bd7921d-b20a-437a-812c-7a5584d5199b",
   "metadata": {},
   "outputs": [],
   "source": [
    "optimal_num_topics = 13"
   ]
  },
  {
   "cell_type": "code",
   "execution_count": 9,
   "id": "ff515251-2a5a-4c02-8a61-2b4093830048",
   "metadata": {},
   "outputs": [
    {
     "name": "stderr",
     "output_type": "stream",
     "text": [
      "Computing coherence values:   6%|▋            | 1/18 [00:38<10:53, 38.47s/topic]"
     ]
    },
    {
     "name": "stdout",
     "output_type": "stream",
     "text": [
      "Number of topics: 2, Coherence Values (C_V, C_UCI, C_NPMI, C_W2V, U_Mass): 0.4308899492180812, -0.0073945036440807126, 0.0005234313444002847, 0.7672425508499146, -2.2561028892055917\n"
     ]
    },
    {
     "name": "stderr",
     "output_type": "stream",
     "text": [
      "Computing coherence values:  11%|█▍           | 2/18 [01:19<10:40, 40.01s/topic]"
     ]
    },
    {
     "name": "stdout",
     "output_type": "stream",
     "text": [
      "Number of topics: 3, Coherence Values (C_V, C_UCI, C_NPMI, C_W2V, U_Mass): 0.45508573597349894, 0.03547869295994796, 0.0070203739542071585, 0.7723837494850159, -2.26136638424598\n"
     ]
    },
    {
     "name": "stderr",
     "output_type": "stream",
     "text": [
      "Computing coherence values:  17%|██▏          | 3/18 [02:00<10:06, 40.41s/topic]"
     ]
    },
    {
     "name": "stdout",
     "output_type": "stream",
     "text": [
      "Number of topics: 4, Coherence Values (C_V, C_UCI, C_NPMI, C_W2V, U_Mass): 0.46570726181540756, 0.0855782295114883, 0.014798878879321244, 0.7677671313285828, -2.4091288290428396\n"
     ]
    },
    {
     "name": "stderr",
     "output_type": "stream",
     "text": [
      "Computing coherence values:  22%|██▉          | 4/18 [02:42<09:35, 41.11s/topic]"
     ]
    },
    {
     "name": "stdout",
     "output_type": "stream",
     "text": [
      "Number of topics: 5, Coherence Values (C_V, C_UCI, C_NPMI, C_W2V, U_Mass): 0.4750284528833649, 0.10577363773237285, 0.016674788702502885, 0.7689196467399597, -2.3899703133564794\n"
     ]
    },
    {
     "name": "stderr",
     "output_type": "stream",
     "text": [
      "Computing coherence values:  28%|███▌         | 5/18 [03:24<09:00, 41.54s/topic]"
     ]
    },
    {
     "name": "stdout",
     "output_type": "stream",
     "text": [
      "Number of topics: 6, Coherence Values (C_V, C_UCI, C_NPMI, C_W2V, U_Mass): 0.4787135444273218, 0.11065982338722145, 0.01846354261523325, 0.763215959072113, -2.4918735868012107\n"
     ]
    },
    {
     "name": "stderr",
     "output_type": "stream",
     "text": [
      "Computing coherence values:  33%|████▎        | 6/18 [04:08<08:26, 42.19s/topic]"
     ]
    },
    {
     "name": "stdout",
     "output_type": "stream",
     "text": [
      "Number of topics: 7, Coherence Values (C_V, C_UCI, C_NPMI, C_W2V, U_Mass): 0.46896757806766426, 0.08567301849141729, 0.01695184844233381, 0.7524623274803162, -2.6291137910868874\n"
     ]
    },
    {
     "name": "stderr",
     "output_type": "stream",
     "text": [
      "Computing coherence values:  39%|█████        | 7/18 [04:52<07:52, 42.96s/topic]"
     ]
    },
    {
     "name": "stdout",
     "output_type": "stream",
     "text": [
      "Number of topics: 8, Coherence Values (C_V, C_UCI, C_NPMI, C_W2V, U_Mass): 0.47481615210041894, 0.11720763535937337, 0.019827374579598853, 0.7644093036651611, -2.448357000057883\n"
     ]
    },
    {
     "name": "stderr",
     "output_type": "stream",
     "text": [
      "Computing coherence values:  44%|█████▊       | 8/18 [05:37<07:15, 43.56s/topic]"
     ]
    },
    {
     "name": "stdout",
     "output_type": "stream",
     "text": [
      "Number of topics: 9, Coherence Values (C_V, C_UCI, C_NPMI, C_W2V, U_Mass): 0.5120820170282059, 0.2159654798015345, 0.03222397079006229, 0.767959475517273, -2.4747298545301897\n"
     ]
    },
    {
     "name": "stderr",
     "output_type": "stream",
     "text": [
      "Computing coherence values:  50%|██████▌      | 9/18 [06:24<06:39, 44.44s/topic]"
     ]
    },
    {
     "name": "stdout",
     "output_type": "stream",
     "text": [
      "Number of topics: 10, Coherence Values (C_V, C_UCI, C_NPMI, C_W2V, U_Mass): 0.48600273677950856, 0.14826850168724967, 0.023856417341440422, 0.757442057132721, -2.6394621687502373\n"
     ]
    },
    {
     "name": "stderr",
     "output_type": "stream",
     "text": [
      "Computing coherence values:  56%|██████▋     | 10/18 [07:10<06:01, 45.17s/topic]"
     ]
    },
    {
     "name": "stdout",
     "output_type": "stream",
     "text": [
      "Number of topics: 11, Coherence Values (C_V, C_UCI, C_NPMI, C_W2V, U_Mass): 0.507359067891874, 0.20908313072279971, 0.03122690645260442, 0.7666341662406921, -2.55050543003204\n"
     ]
    },
    {
     "name": "stderr",
     "output_type": "stream",
     "text": [
      "Computing coherence values:  61%|███████▎    | 11/18 [08:00<05:26, 46.60s/topic]"
     ]
    },
    {
     "name": "stdout",
     "output_type": "stream",
     "text": [
      "Number of topics: 12, Coherence Values (C_V, C_UCI, C_NPMI, C_W2V, U_Mass): 0.49827898393416753, 0.18020226803793718, 0.027678790769101475, 0.7623298168182373, -2.5451558652700568\n"
     ]
    },
    {
     "name": "stderr",
     "output_type": "stream",
     "text": [
      "Computing coherence values:  67%|████████    | 12/18 [08:54<04:53, 48.91s/topic]"
     ]
    },
    {
     "name": "stdout",
     "output_type": "stream",
     "text": [
      "Number of topics: 13, Coherence Values (C_V, C_UCI, C_NPMI, C_W2V, U_Mass): 0.5165571142041571, 0.23413795483992286, 0.03470905418751186, 0.7607011198997498, -2.646020938532865\n"
     ]
    },
    {
     "name": "stderr",
     "output_type": "stream",
     "text": [
      "Computing coherence values:  72%|████████▋   | 13/18 [09:48<04:11, 50.39s/topic]"
     ]
    },
    {
     "name": "stdout",
     "output_type": "stream",
     "text": [
      "Number of topics: 14, Coherence Values (C_V, C_UCI, C_NPMI, C_W2V, U_Mass): 0.49217698413143635, -0.011092306964179259, 0.020113387414046894, 0.75458163022995, -2.7888711776160284\n"
     ]
    },
    {
     "name": "stderr",
     "output_type": "stream",
     "text": [
      "Computing coherence values:  78%|█████████▎  | 14/18 [10:43<03:26, 51.61s/topic]"
     ]
    },
    {
     "name": "stdout",
     "output_type": "stream",
     "text": [
      "Number of topics: 15, Coherence Values (C_V, C_UCI, C_NPMI, C_W2V, U_Mass): 0.4708344893755511, -0.2151621310020946, 0.014162945039983244, 0.7495515942573547, -3.198103128101947\n"
     ]
    },
    {
     "name": "stderr",
     "output_type": "stream",
     "text": [
      "Computing coherence values:  83%|██████████  | 15/18 [11:38<02:38, 52.81s/topic]"
     ]
    },
    {
     "name": "stdout",
     "output_type": "stream",
     "text": [
      "Number of topics: 16, Coherence Values (C_V, C_UCI, C_NPMI, C_W2V, U_Mass): 0.4732714954676456, -0.21728034428500395, 0.01462108937231742, 0.7506600022315979, -3.208706640038276\n"
     ]
    },
    {
     "name": "stderr",
     "output_type": "stream",
     "text": [
      "Computing coherence values:  89%|██████████▋ | 16/18 [12:33<01:47, 53.52s/topic]"
     ]
    },
    {
     "name": "stdout",
     "output_type": "stream",
     "text": [
      "Number of topics: 17, Coherence Values (C_V, C_UCI, C_NPMI, C_W2V, U_Mass): 0.49864726889632227, 0.14928873326569536, 0.03443388951813335, 0.7587824463844299, -2.8483782917376677\n"
     ]
    },
    {
     "name": "stderr",
     "output_type": "stream",
     "text": [
      "Computing coherence values:  94%|███████████▎| 17/18 [13:31<00:54, 54.76s/topic]"
     ]
    },
    {
     "name": "stdout",
     "output_type": "stream",
     "text": [
      "Number of topics: 18, Coherence Values (C_V, C_UCI, C_NPMI, C_W2V, U_Mass): 0.4879045919084162, 0.00751713655961191, 0.02541983806776045, 0.7561426758766174, -2.9873409017728116\n"
     ]
    },
    {
     "name": "stderr",
     "output_type": "stream",
     "text": [
      "Computing coherence values: 100%|████████████| 18/18 [14:28<00:00, 48.24s/topic]"
     ]
    },
    {
     "name": "stdout",
     "output_type": "stream",
     "text": [
      "Number of topics: 19, Coherence Values (C_V, C_UCI, C_NPMI, C_W2V, U_Mass): 0.519594943234237, 0.2752415048177954, 0.03973506201224656, 0.7603811621665955, -2.789367965357511\n"
     ]
    },
    {
     "name": "stderr",
     "output_type": "stream",
     "text": [
      "\n"
     ]
    }
   ],
   "source": [
    "from gensim.models import CoherenceModel\n",
    "from tqdm import tqdm  # For progress tracking\n",
    "\n",
    "def compute_coherence_values(dictionary, corpus, texts, start=2, limit=20, step=1):\n",
    "    coherence_values_cv = []\n",
    "    coherence_values_uci = []\n",
    "    coherence_values_npmi = []\n",
    "    coherence_values_w2v = []\n",
    "    coherence_values_umass = []  # Added for U_Mass\n",
    "    model_list = []\n",
    "    \n",
    "    for num_topics in tqdm(range(start, limit, step), desc=\"Computing coherence values\", unit=\"topic\"):\n",
    "        model = gensim.models.LdaMulticore(corpus=corpus,\n",
    "                                           id2word=dictionary,\n",
    "                                           num_topics=num_topics,\n",
    "                                           random_state=100,\n",
    "                                           chunksize=400,\n",
    "                                           passes=4,\n",
    "                                           per_word_topics=True,\n",
    "                                           workers=6)\n",
    "        model_list.append(model)\n",
    "        \n",
    "        coherencemodel_cv = CoherenceModel(model=model, texts=texts, dictionary=dictionary, coherence='c_v')\n",
    "        coherence_values_cv.append(coherencemodel_cv.get_coherence())\n",
    "        \n",
    "        coherencemodel_uci = CoherenceModel(model=model, texts=texts, dictionary=dictionary, coherence='c_uci')\n",
    "        coherence_values_uci.append(coherencemodel_uci.get_coherence())\n",
    "        \n",
    "        coherencemodel_npmi = CoherenceModel(model=model, texts=texts, dictionary=dictionary, coherence='c_npmi')\n",
    "        coherence_values_npmi.append(coherencemodel_npmi.get_coherence())\n",
    "        \n",
    "        coherencemodel_w2v = CoherenceModel(model=model, texts=texts, dictionary=dictionary, coherence='c_w2v')\n",
    "        coherence_values_w2v.append(coherencemodel_w2v.get_coherence())\n",
    "        \n",
    "        coherencemodel_umass = CoherenceModel(model=model, texts=texts, dictionary=dictionary, coherence='u_mass')  # Added for U_Mass\n",
    "        coherence_values_umass.append(coherencemodel_umass.get_coherence())\n",
    "        \n",
    "        print(f'Number of topics: {num_topics}, Coherence Values (C_V, C_UCI, C_NPMI, C_W2V, U_Mass): {coherencemodel_cv.get_coherence()}, {coherencemodel_uci.get_coherence()}, {coherencemodel_npmi.get_coherence()}, {coherencemodel_w2v.get_coherence()}, {coherencemodel_umass.get_coherence()}')\n",
    "    \n",
    "    return model_list, coherence_values_cv, coherence_values_uci, coherence_values_npmi, coherence_values_w2v, coherence_values_umass\n",
    "\n",
    "# Compute coherence scores\n",
    "model_list, coherence_values_cv, coherence_values_uci, coherence_values_npmi, coherence_values_w2v, coherence_values_umass = compute_coherence_values(dictionary=dictionary, corpus=corpus, texts=data, start=2, limit=20, step=1)"
   ]
  },
  {
   "cell_type": "code",
   "execution_count": 45,
   "id": "25e103ec-1339-457e-92cb-4d4f67c04575",
   "metadata": {},
   "outputs": [
    {
     "data": {
      "image/png": "[encoded data removed]",
      "text/plain": [
       "<Figure size 1200x800 with 1 Axes>"
      ]
     },
     "metadata": {},
     "output_type": "display_data"
    }
   ],
   "source": [
    "import matplotlib.pyplot as plt\n",
    "\n",
    "x = list(range(2, 20))\n",
    "\n",
    "plt.figure(figsize=(12, 8))\n",
    "\n",
    "plt.plot(x, coherence_values_cv, label='C_V', marker='o')\n",
    "plt.plot(x, coherence_values_uci, label='C_UCI', marker='o')\n",
    "plt.plot(x, coherence_values_npmi, label='C_NPMI', marker='o')\n",
    "plt.plot(x, coherence_values_w2v, label='C_W2V', marker='o')\n",
    "plt.plot(x, coherence_values_umass, label='U_Mass', marker='o')  # Added U_Mass\n",
    "\n",
    "plt.xlabel(\"Number of Topics\")\n",
    "plt.ylabel(\"Coherence Score\")\n",
    "plt.title(\"Coherence Score vs. Number of Topics\")\n",
    "plt.legend(loc='best')\n",
    "\n",
    "# Highlight the optimal number of topics for each measure\n",
    "optimal_num_topics_cv = x[coherence_values_cv.index(max(coherence_values_cv))]\n",
    "optimal_num_topics_uci = x[coherence_values_uci.index(max(coherence_values_uci))]\n",
    "optimal_num_topics_npmi = x[coherence_values_npmi.index(max(coherence_values_npmi))]\n",
    "optimal_num_topics_w2v = x[coherence_values_w2v.index(max(coherence_values_w2v))]\n",
    "optimal_num_topics_umass = x[coherence_values_umass.index(max(coherence_values_umass))]  # Added U_Mass\n",
    "\n",
    "plt.axvline(x=optimal_num_topics_cv, color='r', linestyle='--', linewidth=2)\n",
    "plt.annotate(f'C_V Optimal: {optimal_num_topics_cv}', xy=(optimal_num_topics_cv, max(coherence_values_cv)), \n",
    "             xytext=(optimal_num_topics_cv + 1.5, max(coherence_values_cv) - 0.1), \n",
    "             arrowprops=dict(facecolor='black', shrink=0.5), fontsize=12, color='black', ha='left')\n",
    "\n",
    "plt.axvline(x=optimal_num_topics_uci, color='g', linestyle='--', linewidth=2)\n",
    "plt.annotate(f'C_UCI Optimal: {optimal_num_topics_uci}', xy=(optimal_num_topics_uci, max(coherence_values_uci)), \n",
    "             xytext=(optimal_num_topics_uci + 1.5, max(coherence_values_uci) - 0.1), \n",
    "             arrowprops=dict(facecolor='green', shrink=0.05), fontsize=12, color='darkgreen', ha='left')\n",
    "\n",
    "plt.axvline(x=optimal_num_topics_npmi, color='b', linestyle='--', linewidth=2)\n",
    "plt.annotate(f'C_NPMI Optimal: {optimal_num_topics_npmi}', xy=(optimal_num_topics_npmi, max(coherence_values_npmi)), \n",
    "             xytext=(optimal_num_topics_npmi + 1.5, max(coherence_values_npmi) - 0.1), \n",
    "             arrowprops=dict(facecolor='blue', shrink=0.05), fontsize=12, color='darkblue', ha='left')\n",
    "\n",
    "plt.axvline(x=optimal_num_topics_w2v, color='purple', linestyle='--', linewidth=2)\n",
    "plt.annotate(f'C_W2V Optimal: {optimal_num_topics_w2v}', xy=(optimal_num_topics_w2v, max(coherence_values_w2v)), \n",
    "             xytext=(optimal_num_topics_w2v + 1.5, max(coherence_values_w2v) - 0.1), \n",
    "             arrowprops=dict(facecolor='purple', shrink=0.05), fontsize=12, color='darkviolet', ha='left')\n",
    "\n",
    "plt.axvline(x=optimal_num_topics_umass, color='orange', linestyle='--', linewidth=2)  # Added U_Mass line\n",
    "plt.annotate(f'U_Mass Optimal: {optimal_num_topics_umass}', xy=(optimal_num_topics_umass, max(coherence_values_umass)), \n",
    "             xytext=(optimal_num_topics_umass + 1.5, max(coherence_values_umass) - 0.1), \n",
    "             arrowprops=dict(facecolor='orange', shrink=0.05), fontsize=12, color='darkorange', ha='left')\n",
    "\n",
    "plt.xticks(range(2, 20))  # Set x-axis to display only integers\n",
    "plt.grid(True)\n",
    "plt.show()"
   ]
  },
  {
   "cell_type": "code",
   "execution_count": 7,
   "id": "910e95de-d19b-49be-9da0-34da429924c8",
   "metadata": {},
   "outputs": [],
   "source": [
    "import gensim\n",
    "import gensim.corpora as corpora\n",
    "from gensim.models import LdaMulticore"
   ]
  },
  {
   "cell_type": "code",
   "execution_count": 8,
   "id": "95571a48-2140-4525-80a1-8724a6447f49",
   "metadata": {},
   "outputs": [],
   "source": [
    "lda_model = gensim.models.LdaMulticore(corpus=corpus,\n",
    "                                           id2word=dictionary,\n",
    "                                           num_topics=13,\n",
    "                                           random_state=100,\n",
    "                                           chunksize=400,  # Reduced chunk size\n",
    "                                           passes=4,\n",
    "                                           per_word_topics=True,\n",
    "                                           workers=6)"
   ]
  },
  {
   "cell_type": "code",
   "execution_count": 8,
   "id": "3a4af91a-bcae-4e5b-9f61-7ffc54d46297",
   "metadata": {},
   "outputs": [],
   "source": [
    "def extract_topic_info(lda_model, corpus, dictionary, texts):\n",
    "    topics_info = {}\n",
    "    for i in range(optimal_num_topics):\n",
    "        words = lda_model.show_topic(i, topn=10)\n",
    "        coherence_model = CoherenceModel(model=lda_model, texts=texts, dictionary=dictionary, coherence='c_v')\n",
    "        coherence_score = coherence_model.get_coherence()\n",
    "        \n",
    "        # Calculate exclusivity (this is a simplistic version, usually exclusivity calculations are more involved)\n",
    "        topic_words = [word for word, _ in words]\n",
    "        all_other_topics_words = [lda_model.show_topic(j, topn=10) for j in range(optimal_num_topics) if j != i]\n",
    "        all_other_words = [word for sublist in all_other_topics_words for word, _ in sublist]\n",
    "        exclusivity_score = len(set(topic_words) - set(all_other_words)) / len(topic_words)\n",
    "        \n",
    "        topics_info[i] = {\n",
    "            'Top Words and Probabilities': words,\n",
    "            'Coherence Score': coherence_score,\n",
    "            'Exclusivity Score': exclusivity_score,\n",
    "            'Held-out Likelihood': lda_model.log_perplexity(corpus),\n",
    "            'Topic Prevalence': sum([dict(doc).get(i, 0) for doc in corpus]) / len(corpus),\n",
    "            'Semantic Interpretability': \"High\" if coherence_score > 0.5 and exclusivity_score > 0.5 else \"Moderate\"\n",
    "        }\n",
    "    \n",
    "    return topics_info"
   ]
  },
  {
   "cell_type": "code",
   "execution_count": 11,
   "id": "a1d7b72d-f856-4829-811d-d904619f065b",
   "metadata": {},
   "outputs": [],
   "source": [
    "topics_info = extract_topic_info(lda_model, corpus, dictionary, data)"
   ]
  },
  {
   "cell_type": "code",
   "execution_count": 12,
   "id": "dbd90089-237b-4102-8712-9ac68db8744f",
   "metadata": {},
   "outputs": [
    {
     "name": "stdout",
     "output_type": "stream",
     "text": [
      "Topic 1:\n",
      "• Top Words and Probabilities: [('app', 0.051871028), ('match', 0.032088097), ('pay', 0.02287242), ('like', 0.016907526), ('time', 0.015788276), ('money', 0.013900054), ('premium', 0.013639564), ('free', 0.01240599), ('dating', 0.011403784), ('feature', 0.011127709)]\n",
      "• Coherence Score: 0.5124105975282123\n",
      "• Exclusivity Score: 0.2\n",
      "• Held-out Likelihood: -7.487316437887833\n",
      "• Topic Prevalence: 0.00016994391850689273\n",
      "• Semantic Interpretability: Moderate\n",
      "\n",
      "\n",
      "Topic 2:\n",
      "• Top Words and Probabilities: [('woman', 0.042191654), ('first', 0.033375535), ('girl', 0.0270942), ('match', 0.024987172), ('guy', 0.024050422), ('app', 0.023454497), ('like', 0.020381777), ('make', 0.0122404555), ('one', 0.012168238), ('tinder', 0.012069335)]\n",
      "• Coherence Score: 0.5124105975282123\n",
      "• Exclusivity Score: 0.5\n",
      "• Held-out Likelihood: -7.487300088092275\n",
      "• Topic Prevalence: 0.012795777393460158\n",
      "• Semantic Interpretability: Moderate\n",
      "\n",
      "\n",
      "Topic 3:\n",
      "• Top Words and Probabilities: [('like', 0.037034653), ('profile', 0.025285097), ('app', 0.024130756), ('people', 0.021750787), ('would', 0.020451833), ('question', 0.01918633), ('good', 0.015251779), ('match', 0.014223079), ('person', 0.011649797), ('someone', 0.010747612)]\n",
      "• Coherence Score: 0.5124105975282123\n",
      "• Exclusivity Score: 0.4\n",
      "• Held-out Likelihood: -7.487301967456208\n",
      "• Topic Prevalence: 0.007237611588175902\n",
      "• Semantic Interpretability: Moderate\n",
      "\n",
      "\n",
      "Topic 4:\n",
      "• Top Words and Probabilities: [('like', 0.09259245), ('see', 0.04258533), ('pay', 0.03915993), ('people', 0.037840545), ('app', 0.022018697), ('free', 0.018724892), ('liked', 0.016609814), ('match', 0.016602138), ('want', 0.010510176), ('away', 0.010349835)]\n",
      "• Coherence Score: 0.5124105975282123\n",
      "• Exclusivity Score: 0.4\n",
      "• Held-out Likelihood: -7.487305943400808\n",
      "• Topic Prevalence: 0.7721152019833455\n",
      "• Semantic Interpretability: Moderate\n",
      "\n",
      "\n",
      "Topic 5:\n",
      "• Top Words and Probabilities: [('message', 0.062282406), ('app', 0.048041962), ('match', 0.03002288), ('notification', 0.025449768), ('back', 0.018135004), ('time', 0.016203616), ('new', 0.01610197), ('update', 0.0147832995), ('fix', 0.012442573), ('send', 0.0116129555)]\n",
      "• Coherence Score: 0.5124105975282123\n",
      "• Exclusivity Score: 0.7\n",
      "• Held-out Likelihood: -7.48726663766621\n",
      "• Topic Prevalence: 0.08523187348175103\n",
      "• Semantic Interpretability: High\n",
      "\n",
      "\n",
      "Topic 6:\n",
      "• Top Words and Probabilities: [('subscription', 0.043163847), ('app', 0.023542503), ('payment', 0.017450903), ('month', 0.017011918), ('money', 0.016135577), ('card', 0.015532813), ('cancel', 0.011756768), ('play', 0.01118253), ('paid', 0.010946004), ('googly', 0.010617113)]\n",
      "• Coherence Score: 0.5124105975282123\n",
      "• Exclusivity Score: 0.7\n",
      "• Held-out Likelihood: -7.487284134176663\n",
      "• Topic Prevalence: 0.0012895744404346566\n",
      "• Semantic Interpretability: High\n",
      "\n",
      "\n",
      "Topic 7:\n",
      "• Top Words and Probabilities: [('swipe', 0.09310584), ('right', 0.073429465), ('left', 0.03330653), ('swiping', 0.027782684), ('swiped', 0.022827504), ('time', 0.018991087), ('profile', 0.018425085), ('people', 0.016350564), ('like', 0.013290862), ('app', 0.012743563)]\n",
      "• Coherence Score: 0.5124105975282123\n",
      "• Exclusivity Score: 0.5\n",
      "• Held-out Likelihood: -7.487318064583705\n",
      "• Topic Prevalence: 0.005168294462827267\n",
      "• Semantic Interpretability: Moderate\n",
      "\n",
      "\n",
      "Topic 8:\n",
      "• Top Words and Probabilities: [('account', 0.054845117), ('banned', 0.03515632), ('reason', 0.034677625), ('got', 0.018934496), ('app', 0.01870153), ('support', 0.01777635), ('service', 0.016731188), ('tinder', 0.014850875), ('customer', 0.013350962), ('give', 0.011687411)]\n",
      "• Coherence Score: 0.5124105975282123\n",
      "• Exclusivity Score: 0.5\n",
      "• Held-out Likelihood: -7.48733724498709\n",
      "• Topic Prevalence: 0.002709105995021643\n",
      "• Semantic Interpretability: Moderate\n",
      "\n",
      "\n",
      "Topic 9:\n",
      "• Top Words and Probabilities: [('app', 0.022740377), ('filter', 0.020446477), ('people', 0.018872298), ('location', 0.017117444), ('woman', 0.015086306), ('option', 0.013881796), ('search', 0.013214582), ('age', 0.01243078), ('men', 0.011739874), ('set', 0.011579006)]\n",
      "• Coherence Score: 0.5124105975282123\n",
      "• Exclusivity Score: 0.7\n",
      "• Held-out Likelihood: -7.487295955526129\n",
      "• Topic Prevalence: 0.023952095808383235\n",
      "• Semantic Interpretability: High\n",
      "\n",
      "\n",
      "Topic 10:\n",
      "• Top Words and Probabilities: [('profile', 0.07022482), ('fake', 0.06062582), ('account', 0.04396979), ('tinder', 0.01611778), ('bot', 0.01472861), ('real', 0.0126010515), ('user', 0.011802065), ('stammer', 0.011463234), ('app', 0.01131871), ('instagram', 0.010044857)]\n",
      "• Coherence Score: 0.5124105975282123\n",
      "• Exclusivity Score: 0.6\n",
      "• Held-out Likelihood: -7.4872939804774825\n",
      "• Topic Prevalence: 0.009826757170133855\n",
      "• Semantic Interpretability: High\n",
      "\n",
      "\n",
      "Topic 11:\n",
      "• Top Words and Probabilities: [('year', 0.041132927), ('tinder', 0.028525235), ('found', 0.021671267), ('ago', 0.020789046), ('month', 0.020100119), ('due', 0.018871712), ('got', 0.014109634), ('life', 0.01388471), ('thanks', 0.013874417), ('app', 0.013145771)]\n",
      "• Coherence Score: 0.5124105975282123\n",
      "• Exclusivity Score: 0.6\n",
      "• Held-out Likelihood: -7.487289231167687\n",
      "• Topic Prevalence: 0.02096308218287965\n",
      "• Semantic Interpretability: High\n",
      "\n",
      "\n",
      "Topic 12:\n",
      "• Top Words and Probabilities: [('app', 0.07275394), ('work', 0.023313625), ('time', 0.017144242), ('use', 0.016858716), ('photo', 0.014876202), ('number', 0.013275638), ('tried', 0.012451674), ('wont', 0.0118467845), ('issue', 0.011310756), ('let', 0.011297857)]\n",
      "• Coherence Score: 0.5124105975282123\n",
      "• Exclusivity Score: 0.8\n",
      "• Held-out Likelihood: -7.487315106444587\n",
      "• Topic Prevalence: 0.38794197914688155\n",
      "• Semantic Interpretability: High\n",
      "\n",
      "\n",
      "Topic 13:\n",
      "• Top Words and Probabilities: [('app', 0.07009586), ('people', 0.041175146), ('dating', 0.03146213), ('good', 0.022284059), ('give', 0.018764677), ('best', 0.015748082), ('great', 0.015511461), ('meet', 0.014285358), ('site', 0.012718701), ('love', 0.012652709)]\n",
      "• Coherence Score: 0.5124105975282123\n",
      "• Exclusivity Score: 0.5\n",
      "• Held-out Likelihood: -7.487282770968005\n",
      "• Topic Prevalence: 0.2618635850169444\n",
      "• Semantic Interpretability: Moderate\n",
      "\n",
      "\n"
     ]
    }
   ],
   "source": [
    "# Display topics information\n",
    "for topic_id, info in topics_info.items():\n",
    "    print(f\"Topic {topic_id + 1}:\")\n",
    "    for key, value in info.items():\n",
    "        print(f\"• {key}: {value}\")\n",
    "    print(\"\\n\")"
   ]
  },
  {
   "cell_type": "code",
   "execution_count": 37,
   "id": "a708f0fe-937a-4e01-be36-018390ed1ff4",
   "metadata": {},
   "outputs": [
    {
     "name": "stdout",
     "output_type": "stream",
     "text": [
      "Topic 1: Inapp Payments\n",
      "Top Words and Probabilities: [('app', 0.05030042), ('match', 0.032709837), ('pay', 0.027241474), ('like', 0.018386435), ('time', 0.015914703), ('money', 0.01512026), ('premium', 0.013318833), ('profile', 0.013296554), ('free', 0.011519218), ('dating', 0.01122319)]\n",
      "Coherence Score: 0.5017872334838134\n",
      "Exclusivity Score: 0.1\n",
      "Held-out Likelihood: -7.4912914783359605\n",
      "Topic Prevalence: 0.00016994391850689273\n",
      "Semantic Interpretability: Moderate\n",
      "Topic 2: User Interaction\n",
      "Top Words and Probabilities: [('woman', 0.036016855), ('first', 0.030683829), ('girl', 0.026157115), ('match', 0.023809267), ('app', 0.023758769), ('like', 0.02074385), ('guy', 0.020121608), ('tinder', 0.014551743), ('bumble', 0.013427584), ('give', 0.0131116025)]\n",
      "Coherence Score: 0.5017872334838134\n",
      "Exclusivity Score: 0.4\n",
      "Held-out Likelihood: -7.491275048731727\n",
      "Topic Prevalence: 0.012795777393460158\n",
      "Semantic Interpretability: Moderate\n",
      "Topic 3: Profile Quality\n",
      "Top Words and Probabilities: [('like', 0.033014733), ('people', 0.024877265), ('app', 0.024259895), ('profile', 0.022341788), ('would', 0.01903647), ('question', 0.018357813), ('good', 0.01566998), ('match', 0.013891716), ('person', 0.011251582), ('see', 0.011179105)]\n",
      "Coherence Score: 0.5017872334838134\n",
      "Exclusivity Score: 0.3\n",
      "Held-out Likelihood: -7.491282803031789\n",
      "Topic Prevalence: 0.007237611588175902\n",
      "Semantic Interpretability: Moderate\n",
      "Topic 4: Features\n",
      "Top Words and Probabilities: [('like', 0.088557936), ('people', 0.03871144), ('see', 0.03483919), ('pay', 0.02689776), ('app', 0.022336204), ('match', 0.016733294), ('free', 0.01595426), ('liked', 0.013762478), ('away', 0.0111813545), ('tinder', 0.01009546)]\n",
      "Coherence Score: 0.5017872334838134\n",
      "Exclusivity Score: 0.2\n",
      "Held-out Likelihood: -7.491291188066838\n",
      "Topic Prevalence: 0.7721152019833455\n",
      "Semantic Interpretability: Moderate\n",
      "Topic 5: Notification alerts\n",
      "Top Words and Probabilities: [('message', 0.05652136), ('app', 0.04603908), ('match', 0.027948698), ('notification', 0.022719061), ('back', 0.018247925), ('time', 0.016343039), ('new', 0.0155723095), ('update', 0.013513175), ('fix', 0.012847895), ('give', 0.011662407)]\n",
      "Coherence Score: 0.5017872334838134\n",
      "Exclusivity Score: 0.6\n",
      "Held-out Likelihood: -7.491272870965244\n",
      "Topic Prevalence: 0.08523187348175103\n",
      "Semantic Interpretability: High\n",
      "Topic 6: Subscription Payment Issues\n",
      "Top Words and Probabilities: [('subscription', 0.0417806), ('app', 0.03222661), ('payment', 0.015224515), ('card', 0.013426661), ('cancel', 0.013124654), ('month', 0.012945986), ('money', 0.012475828), ('play', 0.009590212), ('option', 0.009327407), ('paid', 0.009075348)]\n",
      "Coherence Score: 0.5017872334838134\n",
      "Exclusivity Score: 0.6\n",
      "Held-out Likelihood: -7.49129516691765\n",
      "Topic Prevalence: 0.0012895744404346566\n",
      "Semantic Interpretability: High\n",
      "Topic 7: Profile Matches\n",
      "Top Words and Probabilities: [('swipe', 0.08055748), ('right', 0.06685581), ('left', 0.028721197), ('swiped', 0.023216672), ('swiping', 0.020807786), ('app', 0.019672832), ('profile', 0.019165656), ('time', 0.017815394), ('like', 0.016328357), ('people', 0.01567804)]\n",
      "Coherence Score: 0.5017872334838134\n",
      "Exclusivity Score: 0.5\n",
      "Held-out Likelihood: -7.491270005829409\n",
      "Topic Prevalence: 0.005168294462827267\n",
      "Semantic Interpretability: Moderate\n",
      "Topic 8: Customer Support\n",
      "Top Words and Probabilities: [('account', 0.047882397), ('banned', 0.0417232), ('reason', 0.0314016), ('app', 0.019236982), ('got', 0.017854031), ('support', 0.017218221), ('service', 0.01646238), ('tinder', 0.015317171), ('customer', 0.01412358), ('give', 0.011574125)]\n",
      "Coherence Score: 0.5017872334838134\n",
      "Exclusivity Score: 0.5\n",
      "Held-out Likelihood: -7.491255140950424\n",
      "Topic Prevalence: 0.002709105995021643\n",
      "Semantic Interpretability: Moderate\n",
      "Topic 9: Profile Filtering\n",
      "Top Words and Probabilities: [('app', 0.028939642), ('woman', 0.019749187), ('filter', 0.015995365), ('men', 0.014729411), ('people', 0.012490476), ('location', 0.012404767), ('looking', 0.011611819), ('option', 0.010654781), ('want', 0.010411659), ('age', 0.010317284)]\n",
      "Coherence Score: 0.5017872334838134\n",
      "Exclusivity Score: 0.6\n",
      "Held-out Likelihood: -7.491253077736938\n",
      "Topic Prevalence: 0.023952095808383235\n",
      "Semantic Interpretability: High\n",
      "Topic 10: Fake Accounts\n",
      "Top Words and Probabilities: [('account', 0.05722714), ('profile', 0.051169146), ('fake', 0.049143136), ('tinder', 0.015265087), ('app', 0.012706436), ('user', 0.011808739), ('delete', 0.011672535), ('bot', 0.010102692), ('instagram', 0.008689384), ('trying', 0.008560881)]\n",
      "Coherence Score: 0.5017872334838134\n",
      "Exclusivity Score: 0.6\n",
      "Held-out Likelihood: -7.491289373364252\n",
      "Topic Prevalence: 0.009826757170133855\n",
      "Semantic Interpretability: High\n",
      "Topic 11: Subscription Model\n",
      "Top Words and Probabilities: [('year', 0.028198881), ('tinder', 0.023921767), ('month', 0.021387234), ('due', 0.018814588), ('found', 0.018511685), ('ago', 0.018450854), ('app', 0.0153912455), ('got', 0.012400984), ('thanks', 0.010395425), ('day', 0.010007178)]\n",
      "Coherence Score: 0.5017872334838134\n",
      "Exclusivity Score: 0.6\n",
      "Held-out Likelihood: -7.4912808715940375\n",
      "Topic Prevalence: 0.02096308218287965\n",
      "Semantic Interpretability: High\n",
      "Topic 12: Usability\n",
      "Top Words and Probabilities: [('app', 0.07017291), ('work', 0.021273527), ('use', 0.018162018), ('photo', 0.017629482), ('time', 0.016775478), ('number', 0.015458605), ('tried', 0.013806329), ('casebook', 0.011681116), ('picture', 0.010959263), ('wont', 0.010804199)]\n",
      "Coherence Score: 0.5017872334838134\n",
      "Exclusivity Score: 0.8\n",
      "Held-out Likelihood: -7.491280058025006\n",
      "Topic Prevalence: 0.38794197914688155\n",
      "Semantic Interpretability: High\n",
      "Topic 13: User Experience on Finding Matches,Meeting, and Dating\n",
      "Top Words and Probabilities: [('app', 0.0634914), ('people', 0.0394976), ('dating', 0.03061986), ('good', 0.021287203), ('give', 0.018887809), ('love', 0.015683655), ('best', 0.014522459), ('great', 0.014481698), ('meet', 0.014165022), ('find', 0.0120145045)]\n",
      "Coherence Score: 0.5017872334838134\n",
      "Exclusivity Score: 0.5\n",
      "Held-out Likelihood: -7.491297470309195\n",
      "Topic Prevalence: 0.2618635850169444\n",
      "Semantic Interpretability: Moderate\n"
     ]
    }
   ],
   "source": [
    "print(\"\"\"Topic 1: Inapp Payments\n",
    "Top Words and Probabilities: [('app', 0.05030042), ('match', 0.032709837), ('pay', 0.027241474), ('like', 0.018386435), ('time', 0.015914703), ('money', 0.01512026), ('premium', 0.013318833), ('profile', 0.013296554), ('free', 0.011519218), ('dating', 0.01122319)]\n",
    "Coherence Score: 0.5017872334838134\n",
    "Exclusivity Score: 0.1\n",
    "Held-out Likelihood: -7.4912914783359605\n",
    "Topic Prevalence: 0.00016994391850689273\n",
    "Semantic Interpretability: Moderate\n",
    "Topic 2: User Interaction\n",
    "Top Words and Probabilities: [('woman', 0.036016855), ('first', 0.030683829), ('girl', 0.026157115), ('match', 0.023809267), ('app', 0.023758769), ('like', 0.02074385), ('guy', 0.020121608), ('tinder', 0.014551743), ('bumble', 0.013427584), ('give', 0.0131116025)]\n",
    "Coherence Score: 0.5017872334838134\n",
    "Exclusivity Score: 0.4\n",
    "Held-out Likelihood: -7.491275048731727\n",
    "Topic Prevalence: 0.012795777393460158\n",
    "Semantic Interpretability: Moderate\n",
    "Topic 3: Profile Quality\n",
    "Top Words and Probabilities: [('like', 0.033014733), ('people', 0.024877265), ('app', 0.024259895), ('profile', 0.022341788), ('would', 0.01903647), ('question', 0.018357813), ('good', 0.01566998), ('match', 0.013891716), ('person', 0.011251582), ('see', 0.011179105)]\n",
    "Coherence Score: 0.5017872334838134\n",
    "Exclusivity Score: 0.3\n",
    "Held-out Likelihood: -7.491282803031789\n",
    "Topic Prevalence: 0.007237611588175902\n",
    "Semantic Interpretability: Moderate\n",
    "Topic 4: Features\n",
    "Top Words and Probabilities: [('like', 0.088557936), ('people', 0.03871144), ('see', 0.03483919), ('pay', 0.02689776), ('app', 0.022336204), ('match', 0.016733294), ('free', 0.01595426), ('liked', 0.013762478), ('away', 0.0111813545), ('tinder', 0.01009546)]\n",
    "Coherence Score: 0.5017872334838134\n",
    "Exclusivity Score: 0.2\n",
    "Held-out Likelihood: -7.491291188066838\n",
    "Topic Prevalence: 0.7721152019833455\n",
    "Semantic Interpretability: Moderate\n",
    "Topic 5: Notification alerts\n",
    "Top Words and Probabilities: [('message', 0.05652136), ('app', 0.04603908), ('match', 0.027948698), ('notification', 0.022719061), ('back', 0.018247925), ('time', 0.016343039), ('new', 0.0155723095), ('update', 0.013513175), ('fix', 0.012847895), ('give', 0.011662407)]\n",
    "Coherence Score: 0.5017872334838134\n",
    "Exclusivity Score: 0.6\n",
    "Held-out Likelihood: -7.491272870965244\n",
    "Topic Prevalence: 0.08523187348175103\n",
    "Semantic Interpretability: High\n",
    "Topic 6: Subscription Payment Issues\n",
    "Top Words and Probabilities: [('subscription', 0.0417806), ('app', 0.03222661), ('payment', 0.015224515), ('card', 0.013426661), ('cancel', 0.013124654), ('month', 0.012945986), ('money', 0.012475828), ('play', 0.009590212), ('option', 0.009327407), ('paid', 0.009075348)]\n",
    "Coherence Score: 0.5017872334838134\n",
    "Exclusivity Score: 0.6\n",
    "Held-out Likelihood: -7.49129516691765\n",
    "Topic Prevalence: 0.0012895744404346566\n",
    "Semantic Interpretability: High\n",
    "Topic 7: Profile Matches\n",
    "Top Words and Probabilities: [('swipe', 0.08055748), ('right', 0.06685581), ('left', 0.028721197), ('swiped', 0.023216672), ('swiping', 0.020807786), ('app', 0.019672832), ('profile', 0.019165656), ('time', 0.017815394), ('like', 0.016328357), ('people', 0.01567804)]\n",
    "Coherence Score: 0.5017872334838134\n",
    "Exclusivity Score: 0.5\n",
    "Held-out Likelihood: -7.491270005829409\n",
    "Topic Prevalence: 0.005168294462827267\n",
    "Semantic Interpretability: Moderate\n",
    "Topic 8: Customer Support\n",
    "Top Words and Probabilities: [('account', 0.047882397), ('banned', 0.0417232), ('reason', 0.0314016), ('app', 0.019236982), ('got', 0.017854031), ('support', 0.017218221), ('service', 0.01646238), ('tinder', 0.015317171), ('customer', 0.01412358), ('give', 0.011574125)]\n",
    "Coherence Score: 0.5017872334838134\n",
    "Exclusivity Score: 0.5\n",
    "Held-out Likelihood: -7.491255140950424\n",
    "Topic Prevalence: 0.002709105995021643\n",
    "Semantic Interpretability: Moderate\n",
    "Topic 9: Profile Filtering\n",
    "Top Words and Probabilities: [('app', 0.028939642), ('woman', 0.019749187), ('filter', 0.015995365), ('men', 0.014729411), ('people', 0.012490476), ('location', 0.012404767), ('looking', 0.011611819), ('option', 0.010654781), ('want', 0.010411659), ('age', 0.010317284)]\n",
    "Coherence Score: 0.5017872334838134\n",
    "Exclusivity Score: 0.6\n",
    "Held-out Likelihood: -7.491253077736938\n",
    "Topic Prevalence: 0.023952095808383235\n",
    "Semantic Interpretability: High\n",
    "Topic 10: Fake Accounts\n",
    "Top Words and Probabilities: [('account', 0.05722714), ('profile', 0.051169146), ('fake', 0.049143136), ('tinder', 0.015265087), ('app', 0.012706436), ('user', 0.011808739), ('delete', 0.011672535), ('bot', 0.010102692), ('instagram', 0.008689384), ('trying', 0.008560881)]\n",
    "Coherence Score: 0.5017872334838134\n",
    "Exclusivity Score: 0.6\n",
    "Held-out Likelihood: -7.491289373364252\n",
    "Topic Prevalence: 0.009826757170133855\n",
    "Semantic Interpretability: High\n",
    "Topic 11: Subscription Model\n",
    "Top Words and Probabilities: [('year', 0.028198881), ('tinder', 0.023921767), ('month', 0.021387234), ('due', 0.018814588), ('found', 0.018511685), ('ago', 0.018450854), ('app', 0.0153912455), ('got', 0.012400984), ('thanks', 0.010395425), ('day', 0.010007178)]\n",
    "Coherence Score: 0.5017872334838134\n",
    "Exclusivity Score: 0.6\n",
    "Held-out Likelihood: -7.4912808715940375\n",
    "Topic Prevalence: 0.02096308218287965\n",
    "Semantic Interpretability: High\n",
    "Topic 12: Usability\n",
    "Top Words and Probabilities: [('app', 0.07017291), ('work', 0.021273527), ('use', 0.018162018), ('photo', 0.017629482), ('time', 0.016775478), ('number', 0.015458605), ('tried', 0.013806329), ('casebook', 0.011681116), ('picture', 0.010959263), ('wont', 0.010804199)]\n",
    "Coherence Score: 0.5017872334838134\n",
    "Exclusivity Score: 0.8\n",
    "Held-out Likelihood: -7.491280058025006\n",
    "Topic Prevalence: 0.38794197914688155\n",
    "Semantic Interpretability: High\n",
    "Topic 13: User Experience on Finding Matches,Meeting, and Dating\n",
    "Top Words and Probabilities: [('app', 0.0634914), ('people', 0.0394976), ('dating', 0.03061986), ('good', 0.021287203), ('give', 0.018887809), ('love', 0.015683655), ('best', 0.014522459), ('great', 0.014481698), ('meet', 0.014165022), ('find', 0.0120145045)]\n",
    "Coherence Score: 0.5017872334838134\n",
    "Exclusivity Score: 0.5\n",
    "Held-out Likelihood: -7.491297470309195\n",
    "Topic Prevalence: 0.2618635850169444\n",
    "Semantic Interpretability: Moderate\"\"\")"
   ]
  },
  {
   "cell_type": "code",
   "execution_count": 38,
   "id": "92c4c11b-f319-4df1-a912-4fa4086d594b",
   "metadata": {},
   "outputs": [
    {
     "name": "stdout",
     "output_type": "stream",
     "text": [
      "                                                          Topic  Count  \\\n",
      "Topic_Number                                                             \n",
      "1                                                Inapp Payments  10862   \n",
      "2                                              User Interaction   8817   \n",
      "3                                               Profile Quality   9808   \n",
      "4                                                      Features   9837   \n",
      "5                                           Notification alerts  10857   \n",
      "6                                   Subscription Payment Issues   2906   \n",
      "7                                               Profile Matches   1743   \n",
      "8                                              Customer Support   8295   \n",
      "9                                             Profile Filtering   5117   \n",
      "10                                                Fake Accounts   2862   \n",
      "11                                           Subscription Model   1570   \n",
      "12                                                    Usability   7247   \n",
      "13            User Experience on Finding Matches,Meeting, an...  20112   \n",
      "\n",
      "              Percentage  \n",
      "Topic_Number              \n",
      "1              10.858417  \n",
      "2               8.814091  \n",
      "3               9.804764  \n",
      "4               9.833755  \n",
      "5              10.853418  \n",
      "6               2.905041  \n",
      "7               1.742425  \n",
      "8               8.292264  \n",
      "9               5.115312  \n",
      "10              2.861056  \n",
      "11              1.569482  \n",
      "12              7.244609  \n",
      "13             20.105365  \n",
      "Topic occurrence frequency analysis saved to 'topic_occurrence_frequency_analysis.csv'.\n",
      "Reviews with topic mappings saved to 'reviews_with_topic_mappings.csv'.\n"
     ]
    }
   ],
   "source": [
    "import pandas as pd\n",
    "from gensim.models import LdaModel\n",
    "from gensim import corpora\n",
    "import pickle\n",
    "\n",
    "# Function to map each review to the dominant topic and include topic name\n",
    "def map_reviews_to_topics(lda_model, corpus, topics):\n",
    "    reviews_topics = []\n",
    "    for bow in corpus:\n",
    "        topics_prob = lda_model.get_document_topics(bow)\n",
    "        dominant_topic = max(topics_prob, key=lambda x: x[1])[0] + 1  # Adjust for 1-based indexing\n",
    "        reviews_topics.append(topics[dominant_topic])\n",
    "    return reviews_topics\n",
    "\n",
    "# Manually create the topics dictionary with 1-based indexing\n",
    "topics = {\n",
    "    1: \"Inapp Payments\",\n",
    "    2: \"User Interaction\",\n",
    "    3: \"Profile Quality\",\n",
    "    4: \"Features\",\n",
    "    5: \"Notification alerts\",\n",
    "    6: \"Subscription Payment Issues\",\n",
    "    7: \"Profile Matches\",\n",
    "    8: \"Customer Support\",\n",
    "    9: \"Profile Filtering\",\n",
    "    10: \"Fake Accounts\",\n",
    "    11: \"Subscription Model\",\n",
    "    12: \"Usability\",\n",
    "    13: \"User Experience on Finding Matches,Meeting, and Dating\"\n",
    "}\n",
    "\n",
    "# Map each review to the dominant topic with names\n",
    "df['Dominant_Topic'] = map_reviews_to_topics(lda_model, corpus, topics)\n",
    "\n",
    "# Extract topic number from 'Dominant_Topic' for counting occurrences\n",
    "df['Topic_Number'] = df['Dominant_Topic'].apply(lambda x: list(topics.values()).index(x) + 1)\n",
    "\n",
    "# Count the occurrences of each topic\n",
    "topic_counts = df['Topic_Number'].value_counts().sort_index()\n",
    "\n",
    "# Calculate the percentage of documents for each topic\n",
    "total_docs = len(df)\n",
    "topic_percentages = (topic_counts / total_docs) * 100\n",
    "\n",
    "# Create a DataFrame for the topic occurrence frequency analysis\n",
    "topic_analysis_df = pd.DataFrame({\n",
    "    'Topic': [topics[i] for i in range(1, len(topics) + 1)],\n",
    "    'Count': topic_counts,\n",
    "    'Percentage': topic_percentages\n",
    "})\n",
    "\n",
    "# Display the frequency analysis\n",
    "print(topic_analysis_df)\n",
    "\n",
    "# Save the results to a CSV file\n",
    "topic_analysis_df.to_csv('topic_occurrence_frequency_analysis_2.csv', index=False)\n",
    "\n",
    "# Save the DataFrame with topic mappings\n",
    "df.to_csv('reviews_with_topic_mappings_2.csv', index=False)\n",
    "\n",
    "print(\"Topic occurrence frequency analysis saved to 'topic_occurrence_frequency_analysis.csv'.\")\n",
    "print(\"Reviews with topic mappings saved to 'reviews_with_topic_mappings.csv'.\")"
   ]
  },
  {
   "cell_type": "code",
   "execution_count": 16,
   "id": "c92640ac-d019-4371-be56-becf56d5d8a2",
   "metadata": {},
   "outputs": [
    {
     "data": {
      "text/plain": [
       "'/Users/karthikeyana'"
      ]
     },
     "execution_count": 16,
     "metadata": {},
     "output_type": "execute_result"
    }
   ],
   "source": [
    "import os\n",
    "os.getcwd()"
   ]
  },
  {
   "cell_type": "code",
   "execution_count": 9,
   "id": "46b0d78f-bb43-46ab-90f4-cce2ab9ec306",
   "metadata": {},
   "outputs": [
    {
     "name": "stderr",
     "output_type": "stream",
     "text": [
      "/var/folders/xj/0f6j2h1s4mg19smjqbvwpfkh0000gn/T/ipykernel_9199/210162555.py:7: DeprecationWarning: DataFrameGroupBy.apply operated on the grouping columns. This behavior is deprecated, and in a future version of pandas the grouping columns will be excluded from the operation. Either pass `include_groups=False` to exclude the groupings or explicitly select the grouping columns after groupby to silence this warning.\n",
      "  sampled_df = df.groupby('score').apply(lambda x: x.sample(n=min(len(x), 10000), random_state=1)).reset_index(drop=True)\n"
     ]
    },
    {
     "name": "stdout",
     "output_type": "stream",
     "text": [
      "Review-topic probabilities matrix for 10000 reviews per rating category saved to 'review_topic_probabilities_for_regression.csv'.\n"
     ]
    }
   ],
   "source": [
    "import pandas as pd\n",
    "from gensim.models import LdaModel\n",
    "from gensim import corpora\n",
    "import numpy as np\n",
    "\n",
    "# Sample 2000 reviews for each rating category (ensure there are at most 2000 reviews per category)\n",
    "sampled_df = df.groupby('score').apply(lambda x: x.sample(n=min(len(x), 10000), random_state=1)).reset_index(drop=True)\n",
    "\n",
    "# Tokenize the reviews\n",
    "sampled_df['tokens'] = sampled_df['cleaned_review'].apply(lambda x: x.split())  # Assuming space-separated tokens\n",
    "\n",
    "# Convert sampled reviews to corpus\n",
    "sampled_corpus = [dictionary.doc2bow(tokens) for tokens in sampled_df['tokens']]\n",
    "\n",
    "# Function to get topic probabilities for each review\n",
    "def get_topic_probabilities(lda_model, corpus, num_topics):\n",
    "    topic_probs = np.zeros((len(corpus), num_topics))\n",
    "    for i, bow in enumerate(corpus):\n",
    "        topics_prob = lda_model.get_document_topics(bow, minimum_probability=0)\n",
    "        for topic_id, prob in topics_prob:\n",
    "            topic_probs[i, topic_id] = prob\n",
    "    return topic_probs\n",
    "\n",
    "# Get the number of topics\n",
    "num_topics = len(lda_model.get_topics())\n",
    "\n",
    "# Get topic probabilities for the sampled reviews\n",
    "topic_probs = get_topic_probabilities(lda_model, sampled_corpus, num_topics)\n",
    "\n",
    "# Prepare the DataFrame for regression analysis\n",
    "topic_columns = [f'Topic_{i+1}_Probability' for i in range(num_topics)]\n",
    "topic_probs_df = pd.DataFrame(topic_probs, columns=topic_columns)\n",
    "\n",
    "# Concatenate review text, rating, and topic probabilities\n",
    "regression_df = pd.concat([sampled_df[['cleaned_review', 'score']], topic_probs_df], axis=1)\n",
    "\n",
    "# Save the matrix to a CSV file\n",
    "regression_df.to_csv('review_topic_probabilities_for_regression_2.csv', index=False)\n",
    "\n",
    "print(\"Review-topic probabilities matrix for 10000 reviews per rating category saved to 'review_topic_probabilities_for_regression.csv'.\")"
   ]
  },
  {
   "cell_type": "code",
   "execution_count": 10,
   "id": "42e0d6eb-0c41-4207-a2ea-5a60df6ba5ec",
   "metadata": {},
   "outputs": [
    {
     "name": "stdout",
     "output_type": "stream",
     "text": [
      "                                      cleaned_review  score  \\\n",
      "0  awful not pay get none interest not waist time...      1   \n",
      "1  bumble not care get date want money played app...      1   \n",
      "2  absolute scam bought boost thing one time thin...      1   \n",
      "3  cant view profile deleted reinstalled app fixe...      1   \n",
      "4  time app suck free like dating app free litera...      1   \n",
      "\n",
      "   Topic_1_Probability  Topic_2_Probability  Topic_3_Probability  \\\n",
      "0             0.452287             0.004527             0.004527   \n",
      "1             0.548437             0.003079             0.003079   \n",
      "2             0.319873             0.004525             0.004525   \n",
      "3             0.002138             0.002138             0.002138   \n",
      "4             0.507988             0.001833             0.001833   \n",
      "\n",
      "   Topic_4_Probability  Topic_5_Probability  Topic_6_Probability  \\\n",
      "0             0.004527             0.004527             0.004527   \n",
      "1             0.003079             0.003079             0.003079   \n",
      "2             0.004525             0.004525             0.630349   \n",
      "3             0.173701             0.260748             0.002138   \n",
      "4             0.172268             0.001833             0.001833   \n",
      "\n",
      "   Topic_7_Probability  Topic_8_Probability  Topic_9_Probability  \\\n",
      "0             0.004527             0.333648             0.004527   \n",
      "1             0.003079             0.134995             0.003079   \n",
      "2             0.004525             0.004525             0.004525   \n",
      "3             0.002138             0.255837             0.002138   \n",
      "4             0.038852             0.105348             0.082923   \n",
      "\n",
      "   Topic_10_Probability  Topic_11_Probability  Topic_12_Probability  \\\n",
      "0              0.004527              0.168795              0.004527   \n",
      "1              0.003079              0.003079              0.067110   \n",
      "2              0.004525              0.004525              0.004525   \n",
      "3              0.002138              0.002138              0.290470   \n",
      "4              0.001833              0.001833              0.001833   \n",
      "\n",
      "   Topic_13_Probability  \n",
      "0              0.004527  \n",
      "1              0.221747  \n",
      "2              0.004525  \n",
      "3              0.002138  \n",
      "4              0.079792  \n"
     ]
    }
   ],
   "source": [
    "print(regression_df.head())"
   ]
  },
  {
   "cell_type": "code",
   "execution_count": 12,
   "id": "8873fa4f-285e-48f7-a39e-5722f7a4c558",
   "metadata": {},
   "outputs": [],
   "source": [
    "import statsmodels.api as sm\n",
    "import pandas as pd"
   ]
  },
  {
   "cell_type": "code",
   "execution_count": 40,
   "id": "cdef619a-f868-4f1f-9b9e-f26e1ee9cc5d",
   "metadata": {},
   "outputs": [
    {
     "name": "stdout",
     "output_type": "stream",
     "text": [
      "                                                        Coef.  Std.Err.  \\\n",
      "const                                                2.791191  0.004593   \n",
      "In-app Payments                                     -2.008806  0.103299   \n",
      "User Interaction                                    -4.019202  0.103169   \n",
      "Profile Quality                                     10.903477  0.102758   \n",
      "Features                                            -3.235694  0.103014   \n",
      "Notification Alerts                                 -2.787992  0.102561   \n",
      "Subscription Payment Issues                         -3.487205  0.103316   \n",
      "Profile Matches                                      9.006006  0.103322   \n",
      "Customer Support                                    -1.344003  0.102510   \n",
      "Profile Filtering                                   -3.667337  0.102590   \n",
      "Fake Accounts                                       -3.192067  0.103120   \n",
      "Subscription Model                                  -3.021744  0.103931   \n",
      "Usability                                            0.883380  0.101978   \n",
      "User Experience on Finding Matches,Meeting, and...   8.762378  0.102442   \n",
      "\n",
      "                                                             t          P>|t|  \\\n",
      "const                                               607.759550   0.000000e+00   \n",
      "In-app Payments                                     -19.446505   6.380126e-84   \n",
      "User Interaction                                    -38.957389   0.000000e+00   \n",
      "Profile Quality                                     106.108056   0.000000e+00   \n",
      "Features                                            -31.410382  1.800652e-214   \n",
      "Notification Alerts                                 -27.183821  1.519079e-161   \n",
      "Subscription Payment Issues                         -33.752841  5.877450e-247   \n",
      "Profile Matches                                      87.164150   0.000000e+00   \n",
      "Customer Support                                    -13.110987   3.306898e-39   \n",
      "Profile Filtering                                   -35.747370  2.261858e-276   \n",
      "Fake Accounts                                       -30.954888  2.053230e-208   \n",
      "Subscription Model                                  -29.074583  2.600200e-184   \n",
      "Usability                                             8.662460   4.752172e-18   \n",
      "User Experience on Finding Matches,Meeting, and...   85.535250   0.000000e+00   \n",
      "\n",
      "                                                       [0.025     0.975]  \n",
      "const                                                2.782190   2.800193  \n",
      "In-app Payments                                     -2.211274  -1.806339  \n",
      "User Interaction                                    -4.221415  -3.816990  \n",
      "Profile Quality                                     10.702069  11.104884  \n",
      "Features                                            -3.437602  -3.033786  \n",
      "Notification Alerts                                 -2.989012  -2.586971  \n",
      "Subscription Payment Issues                         -3.689705  -3.284704  \n",
      "Profile Matches                                      8.803493   9.208519  \n",
      "Customer Support                                    -1.544923  -1.143083  \n",
      "Profile Filtering                                   -3.868415  -3.466258  \n",
      "Fake Accounts                                       -3.394183  -2.989950  \n",
      "Subscription Model                                  -3.225450  -2.818039  \n",
      "Usability                                            0.683502   1.083259  \n",
      "User Experience on Finding Matches,Meeting, and...   8.561591   8.963165  \n",
      "OLS regression results saved to 'ols_regression_results.csv'.\n"
     ]
    }
   ],
   "source": [
    "# Load the previously saved matrix\n",
    "regression_df = pd.read_excel('df2_data_with_regression_2.xlsx')\n",
    "\n",
    "# Define the dependent variable (Rating/Score)\n",
    "y = regression_df['score']\n",
    "\n",
    "# Define the independent variables (Topic Probabilities)\n",
    "X = regression_df.drop(columns=['cleaned_review','score'])\n",
    "\n",
    "# Add a constant term for the intercept\n",
    "X = sm.add_constant(X)\n",
    "\n",
    "# Perform OLS regression\n",
    "model = sm.OLS(y, X).fit()\n",
    "\n",
    "# Get the regression results\n",
    "regression_results = model.summary2().tables[1]\n",
    "\n",
    "# Display the results\n",
    "print(regression_results)\n",
    "\n",
    "# Save the results to a CSV file\n",
    "regression_results.to_csv('ols_regression_results_2.csv')\n",
    "\n",
    "print(\"OLS regression results saved to 'ols_regression_results.csv'.\")"
   ]
  },
  {
   "cell_type": "code",
   "execution_count": 41,
   "id": "fd132bf0-54aa-4940-807e-fb254ba046cf",
   "metadata": {},
   "outputs": [
    {
     "name": "stdout",
     "output_type": "stream",
     "text": [
      "                            OLS Regression Results                            \n",
      "==============================================================================\n",
      "Dep. Variable:                  score   R-squared:                       0.389\n",
      "Model:                            OLS   Adj. R-squared:                  0.389\n",
      "Method:                 Least Squares   F-statistic:                     2653.\n",
      "Date:                Thu, 29 Aug 2024   Prob (F-statistic):               0.00\n",
      "Time:                        09:42:25   Log-Likelihood:                -75955.\n",
      "No. Observations:               50000   AIC:                         1.519e+05\n",
      "Df Residuals:                   49987   BIC:                         1.521e+05\n",
      "Df Model:                          12                                         \n",
      "Covariance Type:            nonrobust                                         \n",
      "==========================================================================================================================\n",
      "                                                             coef    std err          t      P>|t|      [0.025      0.975]\n",
      "--------------------------------------------------------------------------------------------------------------------------\n",
      "const                                                      2.7912      0.005    607.760      0.000       2.782       2.800\n",
      "In-app Payments                                           -2.0088      0.103    -19.447      0.000      -2.211      -1.806\n",
      "User Interaction                                          -4.0192      0.103    -38.957      0.000      -4.221      -3.817\n",
      "Profile Quality                                           10.9035      0.103    106.108      0.000      10.702      11.105\n",
      "Features                                                  -3.2357      0.103    -31.410      0.000      -3.438      -3.034\n",
      "Notification Alerts                                       -2.7880      0.103    -27.184      0.000      -2.989      -2.587\n",
      "Subscription Payment Issues                               -3.4872      0.103    -33.753      0.000      -3.690      -3.285\n",
      "Profile Matches                                            9.0060      0.103     87.164      0.000       8.803       9.209\n",
      "Customer Support                                          -1.3440      0.103    -13.111      0.000      -1.545      -1.143\n",
      "Profile Filtering                                         -3.6673      0.103    -35.747      0.000      -3.868      -3.466\n",
      "Fake Accounts                                             -3.1921      0.103    -30.955      0.000      -3.394      -2.990\n",
      "Subscription Model                                        -3.0217      0.104    -29.075      0.000      -3.225      -2.818\n",
      "Usability                                                  0.8834      0.102      8.662      0.000       0.684       1.083\n",
      "User Experience on Finding Matches,Meeting, and Dating     8.7624      0.102     85.535      0.000       8.562       8.963\n",
      "==============================================================================\n",
      "Omnibus:                     1148.743   Durbin-Watson:                   1.968\n",
      "Prob(Omnibus):                  0.000   Jarque-Bera (JB):              594.203\n",
      "Skew:                           0.015   Prob(JB):                    9.34e-130\n",
      "Kurtosis:                       2.467   Cond. No.                     3.23e+15\n",
      "==============================================================================\n",
      "\n",
      "Notes:\n",
      "[1] Standard Errors assume that the covariance matrix of the errors is correctly specified.\n",
      "[2] The smallest eigenvalue is 5.15e-27. This might indicate that there are\n",
      "strong multicollinearity problems or that the design matrix is singular.\n"
     ]
    }
   ],
   "source": [
    "results = model.summary()\n",
    "print(results)"
   ]
  },
  {
   "cell_type": "code",
   "execution_count": 42,
   "id": "beb796f3-5312-4bd0-ac66-f00068aab602",
   "metadata": {},
   "outputs": [
    {
     "name": "stdout",
     "output_type": "stream",
     "text": [
      "   Topic Serial Number                                         Topic Name  \\\n",
      "0              Topic 1                                    In-app Payments   \n",
      "1              Topic 2                                   User Interaction   \n",
      "2              Topic 3                                    Profile Quality   \n",
      "3              Topic 4                                           Features   \n",
      "4              Topic 5                                Notification Alerts   \n",
      "5              Topic 6                        Subscription Payment Issues   \n",
      "6              Topic 7                                    Profile Matches   \n",
      "7              Topic 8                                   Customer Support   \n",
      "8              Topic 9                                  Profile Filtering   \n",
      "9             Topic 10                                      Fake Accounts   \n",
      "10            Topic 11                                 Subscription Model   \n",
      "11            Topic 12                                          Usability   \n",
      "12            Topic 13  User Experience on Finding Matches,Meeting, an...   \n",
      "\n",
      "    % Importance  \n",
      "0           8.17  \n",
      "1           5.08  \n",
      "2          10.79  \n",
      "3           6.42  \n",
      "4           6.01  \n",
      "5           3.02  \n",
      "6           7.62  \n",
      "7           7.84  \n",
      "8           4.55  \n",
      "9           6.71  \n",
      "10          2.16  \n",
      "11          9.18  \n",
      "12         22.45  \n"
     ]
    }
   ],
   "source": [
    "import pandas as pd\n",
    "from sklearn.linear_model import LinearRegression\n",
    "from sklearn.metrics import r2_score\n",
    "\n",
    "# Assuming 'X' is the matrix of topic probabilities and 'y' is the score (rating)\n",
    "# Fit the full model\n",
    "model = LinearRegression()\n",
    "model.fit(X, y)\n",
    "full_model_r2 = r2_score(y, model.predict(X))\n",
    "\n",
    "# Initialize a dictionary to store dominance results\n",
    "dominance_results = {}\n",
    "\n",
    "# Loop through each predictor to calculate partial R-squared\n",
    "for predictor in X.columns:\n",
    "    remaining_predictors = [col for col in X.columns if col != predictor]\n",
    "    partial_model = LinearRegression()\n",
    "    partial_model.fit(X[remaining_predictors], y)\n",
    "    partial_r2 = r2_score(y, partial_model.predict(X[remaining_predictors]))\n",
    "    dominance_results[predictor] = full_model_r2 - partial_r2\n",
    "\n",
    "# Convert dominance results to percentage importance\n",
    "total_dominance = sum(dominance_results.values())\n",
    "relative_importance = {k: (v / total_dominance) * 100 for k, v in dominance_results.items()}\n",
    "\n",
    "# Sort predictors by their relative importance\n",
    "sorted_importance = sorted(relative_importance.items(), key=lambda x: x[1], reverse=True)\n",
    "\n",
    "# Create a DataFrame for the table\n",
    "dominance_df = pd.DataFrame(sorted_importance, columns=[\"Topic Name\", \"% Importance\"])\n",
    "\n",
    "# Add Topic Serial Number\n",
    "dominance_df[\"Topic Serial Number\"] = [\"Topic {}\".format(i + 1) for i in range(len(dominance_df))]\n",
    "\n",
    "# Reorder columns\n",
    "dominance_df = dominance_df[[\"Topic Serial Number\", \"Topic Name\", \"% Importance\"]]\n",
    "\n",
    "# Display the table\n",
    "print(dominance_df)\n",
    "\n",
    "# Optionally, save the table to a CSV file\n",
    "dominance_df.to_csv('dominance_analysis_results.csv', index=False)"
   ]
  },
  {
   "cell_type": "code",
   "execution_count": 43,
   "id": "d2f1143b-d01e-4e70-ab03-35574d153579",
   "metadata": {},
   "outputs": [
    {
     "data": {
      "text/html": [
       "<div>\n",
       "<style scoped>\n",
       "    .dataframe tbody tr th:only-of-type {\n",
       "        vertical-align: middle;\n",
       "    }\n",
       "\n",
       "    .dataframe tbody tr th {\n",
       "        vertical-align: top;\n",
       "    }\n",
       "\n",
       "    .dataframe thead th {\n",
       "        text-align: right;\n",
       "    }\n",
       "</style>\n",
       "<table border=\"1\" class=\"dataframe\">\n",
       "  <thead>\n",
       "    <tr style=\"text-align: right;\">\n",
       "      <th></th>\n",
       "      <th>Topic Serial Number</th>\n",
       "      <th>Topic Name</th>\n",
       "      <th>% Importance</th>\n",
       "    </tr>\n",
       "  </thead>\n",
       "  <tbody>\n",
       "    <tr>\n",
       "      <th>0</th>\n",
       "      <td>Topic 1</td>\n",
       "      <td>In-app Payments</td>\n",
       "      <td>8.17</td>\n",
       "    </tr>\n",
       "    <tr>\n",
       "      <th>1</th>\n",
       "      <td>Topic 2</td>\n",
       "      <td>User Interaction</td>\n",
       "      <td>5.08</td>\n",
       "    </tr>\n",
       "    <tr>\n",
       "      <th>2</th>\n",
       "      <td>Topic 3</td>\n",
       "      <td>Profile Quality</td>\n",
       "      <td>10.79</td>\n",
       "    </tr>\n",
       "    <tr>\n",
       "      <th>3</th>\n",
       "      <td>Topic 4</td>\n",
       "      <td>Features</td>\n",
       "      <td>6.42</td>\n",
       "    </tr>\n",
       "    <tr>\n",
       "      <th>4</th>\n",
       "      <td>Topic 5</td>\n",
       "      <td>Notification Alerts</td>\n",
       "      <td>6.01</td>\n",
       "    </tr>\n",
       "    <tr>\n",
       "      <th>5</th>\n",
       "      <td>Topic 6</td>\n",
       "      <td>Subscription Payment Issues</td>\n",
       "      <td>3.02</td>\n",
       "    </tr>\n",
       "    <tr>\n",
       "      <th>6</th>\n",
       "      <td>Topic 7</td>\n",
       "      <td>Profile Matches</td>\n",
       "      <td>7.62</td>\n",
       "    </tr>\n",
       "    <tr>\n",
       "      <th>7</th>\n",
       "      <td>Topic 8</td>\n",
       "      <td>Customer Support</td>\n",
       "      <td>7.84</td>\n",
       "    </tr>\n",
       "    <tr>\n",
       "      <th>8</th>\n",
       "      <td>Topic 9</td>\n",
       "      <td>Profile Filtering</td>\n",
       "      <td>4.55</td>\n",
       "    </tr>\n",
       "    <tr>\n",
       "      <th>9</th>\n",
       "      <td>Topic 10</td>\n",
       "      <td>Fake Accounts</td>\n",
       "      <td>6.71</td>\n",
       "    </tr>\n",
       "    <tr>\n",
       "      <th>10</th>\n",
       "      <td>Topic 11</td>\n",
       "      <td>Subscription Model</td>\n",
       "      <td>2.16</td>\n",
       "    </tr>\n",
       "    <tr>\n",
       "      <th>11</th>\n",
       "      <td>Topic 12</td>\n",
       "      <td>Usability</td>\n",
       "      <td>9.18</td>\n",
       "    </tr>\n",
       "    <tr>\n",
       "      <th>12</th>\n",
       "      <td>Topic 13</td>\n",
       "      <td>User Experience on Finding Matches,Meeting, an...</td>\n",
       "      <td>22.45</td>\n",
       "    </tr>\n",
       "  </tbody>\n",
       "</table>\n",
       "</div>"
      ],
      "text/plain": [
       "   Topic Serial Number                                         Topic Name  \\\n",
       "0              Topic 1                                    In-app Payments   \n",
       "1              Topic 2                                   User Interaction   \n",
       "2              Topic 3                                    Profile Quality   \n",
       "3              Topic 4                                           Features   \n",
       "4              Topic 5                                Notification Alerts   \n",
       "5              Topic 6                        Subscription Payment Issues   \n",
       "6              Topic 7                                    Profile Matches   \n",
       "7              Topic 8                                   Customer Support   \n",
       "8              Topic 9                                  Profile Filtering   \n",
       "9             Topic 10                                      Fake Accounts   \n",
       "10            Topic 11                                 Subscription Model   \n",
       "11            Topic 12                                          Usability   \n",
       "12            Topic 13  User Experience on Finding Matches,Meeting, an...   \n",
       "\n",
       "    % Importance  \n",
       "0           8.17  \n",
       "1           5.08  \n",
       "2          10.79  \n",
       "3           6.42  \n",
       "4           6.01  \n",
       "5           3.02  \n",
       "6           7.62  \n",
       "7           7.84  \n",
       "8           4.55  \n",
       "9           6.71  \n",
       "10          2.16  \n",
       "11          9.18  \n",
       "12         22.45  "
      ]
     },
     "execution_count": 43,
     "metadata": {},
     "output_type": "execute_result"
    }
   ],
   "source": [
    "dominance_df"
   ]
  },
  {
   "cell_type": "code",
   "execution_count": 44,
   "id": "3bce184d-97f3-4f16-8bab-4cde9d849fec",
   "metadata": {},
   "outputs": [
    {
     "name": "stdout",
     "output_type": "stream",
     "text": [
      "       In-app Payments  User Interaction  Profile Quality  Features  \\\n",
      "score                                                                 \n",
      "1             0.080909          0.086667         0.052578  0.084203   \n",
      "2             0.078745          0.080313         0.067564  0.079943   \n",
      "3             0.077417          0.076368         0.076436  0.077756   \n",
      "4             0.074595          0.074131         0.085396  0.073140   \n",
      "5             0.072931          0.067244         0.101265  0.068515   \n",
      "\n",
      "       Notification Alerts  Subscription Payment Issues  Profile Matches  \\\n",
      "score                                                                      \n",
      "1                 0.085124                     0.086771         0.057592   \n",
      "2                 0.081308                     0.079534         0.068055   \n",
      "3                 0.077507                     0.076613         0.075209   \n",
      "4                 0.075130                     0.074494         0.085530   \n",
      "5                 0.069832                     0.069799         0.096356   \n",
      "\n",
      "       Customer Support  Profile Filtering  Fake Accounts  Subscription Model  \\\n",
      "score                                                                           \n",
      "1              0.081026           0.085473       0.085242            0.083072   \n",
      "2              0.078705           0.079728       0.078610            0.080196   \n",
      "3              0.075143           0.076936       0.077617            0.076866   \n",
      "4              0.075310           0.073440       0.074275            0.074001   \n",
      "5              0.074538           0.068426       0.068933            0.068542   \n",
      "\n",
      "       Usability  User Experience on Finding Matches,Meeting, and Dating  \n",
      "score                                                                     \n",
      "1       0.073673                                           0.057670       \n",
      "2       0.077575                                           0.069724       \n",
      "3       0.077593                                           0.078539       \n",
      "4       0.075737                                           0.084824       \n",
      "5       0.078129                                           0.095490       \n"
     ]
    }
   ],
   "source": [
    "import pandas as pd\n",
    "\n",
    "# Assuming 'regression_df' has the structure: 'Review_Text', 'score', 'Topic_1_Probability', ..., 'Topic_13_Probability'\n",
    "\n",
    "# Create a list to store the topic labels (1-13)\n",
    "topic_labels = ['In-app Payments','User Interaction','Profile Quality','Features','Notification Alerts','Subscription Payment Issues','Profile Matches','Customer Support','Profile Filtering','Fake Accounts','Subscription Model','Usability','User Experience on Finding Matches,Meeting, and Dating']\n",
    "\n",
    "# Sum up the probabilities for each topic, grouped by 'score'\n",
    "topic_rating = regression_df.groupby('score')[topic_labels].mean()\n",
    "\n",
    "# Display the 'topic_rating' DataFrame\n",
    "print(topic_rating)\n",
    "\n",
    "# Save 'topic_rating' to a CSV file if needed\n",
    "topic_rating.to_csv('topic_rating_2.csv')\n"
   ]
  },
  {
   "cell_type": "code",
   "execution_count": 45,
   "id": "abcee3b1-79ea-456e-93a9-c5ca7ac027a2",
   "metadata": {},
   "outputs": [
    {
     "data": {
      "text/html": [
       "<div>\n",
       "<style scoped>\n",
       "    .dataframe tbody tr th:only-of-type {\n",
       "        vertical-align: middle;\n",
       "    }\n",
       "\n",
       "    .dataframe tbody tr th {\n",
       "        vertical-align: top;\n",
       "    }\n",
       "\n",
       "    .dataframe thead th {\n",
       "        text-align: right;\n",
       "    }\n",
       "</style>\n",
       "<table border=\"1\" class=\"dataframe\">\n",
       "  <thead>\n",
       "    <tr style=\"text-align: right;\">\n",
       "      <th>score</th>\n",
       "      <th>1</th>\n",
       "      <th>2</th>\n",
       "      <th>3</th>\n",
       "      <th>4</th>\n",
       "      <th>5</th>\n",
       "    </tr>\n",
       "  </thead>\n",
       "  <tbody>\n",
       "    <tr>\n",
       "      <th>In-app Payments</th>\n",
       "      <td>0.080909</td>\n",
       "      <td>0.078745</td>\n",
       "      <td>0.077417</td>\n",
       "      <td>0.074595</td>\n",
       "      <td>0.072931</td>\n",
       "    </tr>\n",
       "    <tr>\n",
       "      <th>User Interaction</th>\n",
       "      <td>0.086667</td>\n",
       "      <td>0.080313</td>\n",
       "      <td>0.076368</td>\n",
       "      <td>0.074131</td>\n",
       "      <td>0.067244</td>\n",
       "    </tr>\n",
       "    <tr>\n",
       "      <th>Profile Quality</th>\n",
       "      <td>0.052578</td>\n",
       "      <td>0.067564</td>\n",
       "      <td>0.076436</td>\n",
       "      <td>0.085396</td>\n",
       "      <td>0.101265</td>\n",
       "    </tr>\n",
       "    <tr>\n",
       "      <th>Features</th>\n",
       "      <td>0.084203</td>\n",
       "      <td>0.079943</td>\n",
       "      <td>0.077756</td>\n",
       "      <td>0.073140</td>\n",
       "      <td>0.068515</td>\n",
       "    </tr>\n",
       "    <tr>\n",
       "      <th>Notification Alerts</th>\n",
       "      <td>0.085124</td>\n",
       "      <td>0.081308</td>\n",
       "      <td>0.077507</td>\n",
       "      <td>0.075130</td>\n",
       "      <td>0.069832</td>\n",
       "    </tr>\n",
       "    <tr>\n",
       "      <th>Subscription Payment Issues</th>\n",
       "      <td>0.086771</td>\n",
       "      <td>0.079534</td>\n",
       "      <td>0.076613</td>\n",
       "      <td>0.074494</td>\n",
       "      <td>0.069799</td>\n",
       "    </tr>\n",
       "    <tr>\n",
       "      <th>Profile Matches</th>\n",
       "      <td>0.057592</td>\n",
       "      <td>0.068055</td>\n",
       "      <td>0.075209</td>\n",
       "      <td>0.085530</td>\n",
       "      <td>0.096356</td>\n",
       "    </tr>\n",
       "    <tr>\n",
       "      <th>Customer Support</th>\n",
       "      <td>0.081026</td>\n",
       "      <td>0.078705</td>\n",
       "      <td>0.075143</td>\n",
       "      <td>0.075310</td>\n",
       "      <td>0.074538</td>\n",
       "    </tr>\n",
       "    <tr>\n",
       "      <th>Profile Filtering</th>\n",
       "      <td>0.085473</td>\n",
       "      <td>0.079728</td>\n",
       "      <td>0.076936</td>\n",
       "      <td>0.073440</td>\n",
       "      <td>0.068426</td>\n",
       "    </tr>\n",
       "    <tr>\n",
       "      <th>Fake Accounts</th>\n",
       "      <td>0.085242</td>\n",
       "      <td>0.078610</td>\n",
       "      <td>0.077617</td>\n",
       "      <td>0.074275</td>\n",
       "      <td>0.068933</td>\n",
       "    </tr>\n",
       "    <tr>\n",
       "      <th>Subscription Model</th>\n",
       "      <td>0.083072</td>\n",
       "      <td>0.080196</td>\n",
       "      <td>0.076866</td>\n",
       "      <td>0.074001</td>\n",
       "      <td>0.068542</td>\n",
       "    </tr>\n",
       "    <tr>\n",
       "      <th>Usability</th>\n",
       "      <td>0.073673</td>\n",
       "      <td>0.077575</td>\n",
       "      <td>0.077593</td>\n",
       "      <td>0.075737</td>\n",
       "      <td>0.078129</td>\n",
       "    </tr>\n",
       "    <tr>\n",
       "      <th>User Experience on Finding Matches,Meeting, and Dating</th>\n",
       "      <td>0.057670</td>\n",
       "      <td>0.069724</td>\n",
       "      <td>0.078539</td>\n",
       "      <td>0.084824</td>\n",
       "      <td>0.095490</td>\n",
       "    </tr>\n",
       "  </tbody>\n",
       "</table>\n",
       "</div>"
      ],
      "text/plain": [
       "score                                                      1         2  \\\n",
       "In-app Payments                                     0.080909  0.078745   \n",
       "User Interaction                                    0.086667  0.080313   \n",
       "Profile Quality                                     0.052578  0.067564   \n",
       "Features                                            0.084203  0.079943   \n",
       "Notification Alerts                                 0.085124  0.081308   \n",
       "Subscription Payment Issues                         0.086771  0.079534   \n",
       "Profile Matches                                     0.057592  0.068055   \n",
       "Customer Support                                    0.081026  0.078705   \n",
       "Profile Filtering                                   0.085473  0.079728   \n",
       "Fake Accounts                                       0.085242  0.078610   \n",
       "Subscription Model                                  0.083072  0.080196   \n",
       "Usability                                           0.073673  0.077575   \n",
       "User Experience on Finding Matches,Meeting, and...  0.057670  0.069724   \n",
       "\n",
       "score                                                      3         4  \\\n",
       "In-app Payments                                     0.077417  0.074595   \n",
       "User Interaction                                    0.076368  0.074131   \n",
       "Profile Quality                                     0.076436  0.085396   \n",
       "Features                                            0.077756  0.073140   \n",
       "Notification Alerts                                 0.077507  0.075130   \n",
       "Subscription Payment Issues                         0.076613  0.074494   \n",
       "Profile Matches                                     0.075209  0.085530   \n",
       "Customer Support                                    0.075143  0.075310   \n",
       "Profile Filtering                                   0.076936  0.073440   \n",
       "Fake Accounts                                       0.077617  0.074275   \n",
       "Subscription Model                                  0.076866  0.074001   \n",
       "Usability                                           0.077593  0.075737   \n",
       "User Experience on Finding Matches,Meeting, and...  0.078539  0.084824   \n",
       "\n",
       "score                                                      5  \n",
       "In-app Payments                                     0.072931  \n",
       "User Interaction                                    0.067244  \n",
       "Profile Quality                                     0.101265  \n",
       "Features                                            0.068515  \n",
       "Notification Alerts                                 0.069832  \n",
       "Subscription Payment Issues                         0.069799  \n",
       "Profile Matches                                     0.096356  \n",
       "Customer Support                                    0.074538  \n",
       "Profile Filtering                                   0.068426  \n",
       "Fake Accounts                                       0.068933  \n",
       "Subscription Model                                  0.068542  \n",
       "Usability                                           0.078129  \n",
       "User Experience on Finding Matches,Meeting, and...  0.095490  "
      ]
     },
     "execution_count": 45,
     "metadata": {},
     "output_type": "execute_result"
    }
   ],
   "source": [
    "topic_rating_t=topic_rating.T\n",
    "topic_rating_t"
   ]
  },
  {
   "cell_type": "code",
   "execution_count": 46,
   "id": "bd8e6a59-3922-4d63-8114-12132bc9b5d8",
   "metadata": {},
   "outputs": [],
   "source": [
    "import pandas as pd\n",
    "import prince\n",
    "import matplotlib.pyplot as plt\n",
    "import pandas as pd\n",
    "import prince\n",
    "import matplotlib.pyplot as plt\n",
    "topic_rating_c = topic_rating_t.copy()\n"
   ]
  },
  {
   "cell_type": "code",
   "execution_count": 47,
   "id": "bd288aa5-cec2-4d9b-8ea7-9162db3b2f32",
   "metadata": {},
   "outputs": [
    {
     "name": "stdout",
     "output_type": "stream",
     "text": [
      "Correspondence analysis results saved to 'topic_rating_with_ca.csv'.\n"
     ]
    },
    {
     "data": {
      "image/png": "[encoded data removed]",
      "text/plain": [
       "<Figure size 1200x800 with 1 Axes>"
      ]
     },
     "metadata": {},
     "output_type": "display_data"
    }
   ],
   "source": [
    "\n",
    "# Initialize Correspondence Analysis\n",
    "ca = prince.CA(n_components=2)\n",
    "\n",
    "# Fit the model\n",
    "ca = ca.fit(topic_rating_c)\n",
    "\n",
    "# Get the coordinates of the rows and columns\n",
    "row_coordinates = ca.row_coordinates(topic_rating_c)\n",
    "column_coordinates = ca.column_coordinates(topic_rating_c)\n",
    "\n",
    "# Add the transformed data to the DataFrame for visualization\n",
    "topic_rating_c['CA1'] = row_coordinates.iloc[:, 0]\n",
    "topic_rating_c['CA2'] = row_coordinates.iloc[:, 1]\n",
    "\n",
    "# Save the result\n",
    "topic_rating_c.to_csv('topic_rating_with_ca.csv')\n",
    "\n",
    "print(\"Correspondence analysis results saved to 'topic_rating_with_ca.csv'.\")\n",
    "\n",
    "\n",
    "\n",
    "# Plotting\n",
    "plt.figure(figsize=(12, 8))\n",
    "\n",
    "# Plot topic coordinates\n",
    "plt.scatter(row_coordinates.iloc[:, 0], row_coordinates.iloc[:, 1], color='blue', label='Topics')\n",
    "for i, txt in enumerate(row_coordinates.index):\n",
    "    plt.text(row_coordinates.iloc[i, 0], row_coordinates.iloc[i, 1], txt, fontsize=9, color='blue', ha='right', va='bottom')\n",
    "\n",
    "# Plot rating coordinates\n",
    "plt.scatter(column_coordinates.iloc[:, 0], column_coordinates.iloc[:, 1], color='red', label='Ratings')\n",
    "for i, txt in enumerate(column_coordinates.index):\n",
    "    plt.text(column_coordinates.iloc[i, 0], column_coordinates.iloc[i, 1], txt, fontsize=9, color='red', ha='right', va='bottom')\n",
    "\n",
    "# Labeling\n",
    "plt.xlabel(f'CA1')\n",
    "plt.ylabel(f'CA2')\n",
    "plt.title('Correspondence Analysis of Topics and Ratings')\n",
    "\n",
    "# Add legend\n",
    "plt.legend(loc='best')\n",
    "\n",
    "# Show plot\n",
    "plt.grid(True)\n",
    "plt.show()"
   ]
  },
  {
   "cell_type": "code",
   "execution_count": null,
   "id": "08dcad75-dc59-4e53-aa82-afbb2efc56fb",
   "metadata": {},
   "outputs": [],
   "source": []
  }
 ],
 "metadata": {
  "kernelspec": {
   "display_name": "Python 3 (ipykernel)",
   "language": "python",
   "name": "python3"
  },
  "language_info": {
   "codemirror_mode": {
    "name": "ipython",
    "version": 3
   },
   "file_extension": ".py",
   "mimetype": "text/x-python",
   "name": "python",
   "nbconvert_exporter": "python",
   "pygments_lexer": "ipython3",
   "version": "3.11.8"
  }
 },
 "nbformat": 4,
 "nbformat_minor": 5
}
