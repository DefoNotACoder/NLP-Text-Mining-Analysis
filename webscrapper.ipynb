{
 "cells": [
  {
   "cell_type": "code",
   "execution_count": 1,
   "id": "b1f5ee22-a9e6-44ee-878e-d53d92dddc63",
   "metadata": {},
   "outputs": [
    {
     "name": "stdout",
     "output_type": "stream",
     "text": [
      "Collecting google-play-scraperNote: you may need to restart the kernel to use updated packages.\n",
      "\n",
      "  Downloading google_play_scraper-1.2.7-py3-none-any.whl.metadata (50 kB)\n",
      "     ---------------------------------------- 0.0/50.2 kB ? eta -:--:--\n",
      "     ---------------------------------------- 0.0/50.2 kB ? eta -:--:--\n",
      "     -------- ------------------------------- 10.2/50.2 kB ? eta -:--:--\n",
      "     --------------- ---------------------- 20.5/50.2 kB 131.3 kB/s eta 0:00:01\n",
      "     ----------------------- -------------- 30.7/50.2 kB 146.3 kB/s eta 0:00:01\n",
      "     ------------------------------ ------- 41.0/50.2 kB 178.6 kB/s eta 0:00:01\n",
      "     -------------------------------------- 50.2/50.2 kB 182.7 kB/s eta 0:00:00\n",
      "Requirement already satisfied: pandas in c:\\users\\nvaja\\anaconda3\\lib\\site-packages (2.1.4)\n",
      "Requirement already satisfied: openpyxl in c:\\users\\nvaja\\anaconda3\\lib\\site-packages (3.0.10)\n",
      "Requirement already satisfied: numpy<2,>=1.23.2 in c:\\users\\nvaja\\anaconda3\\lib\\site-packages (from pandas) (1.26.4)\n",
      "Requirement already satisfied: python-dateutil>=2.8.2 in c:\\users\\nvaja\\anaconda3\\lib\\site-packages (from pandas) (2.8.2)\n",
      "Requirement already satisfied: pytz>=2020.1 in c:\\users\\nvaja\\anaconda3\\lib\\site-packages (from pandas) (2023.3.post1)\n",
      "Requirement already satisfied: tzdata>=2022.1 in c:\\users\\nvaja\\anaconda3\\lib\\site-packages (from pandas) (2023.3)\n",
      "Requirement already satisfied: et_xmlfile in c:\\users\\nvaja\\anaconda3\\lib\\site-packages (from openpyxl) (1.1.0)\n",
      "Requirement already satisfied: six>=1.5 in c:\\users\\nvaja\\anaconda3\\lib\\site-packages (from python-dateutil>=2.8.2->pandas) (1.16.0)\n",
      "Downloading google_play_scraper-1.2.7-py3-none-any.whl (28 kB)\n",
      "Installing collected packages: google-play-scraper\n",
      "Successfully installed google-play-scraper-1.2.7\n"
     ]
    }
   ],
   "source": [
    "pip install google-play-scraper pandas openpyxl"
   ]
  },
  {
   "cell_type": "code",
   "execution_count": 11,
   "id": "75203c40-a475-41cc-a011-f63edd1abfc4",
   "metadata": {},
   "outputs": [
    {
     "name": "stdout",
     "output_type": "stream",
     "text": [
      "Reviews saved\n"
     ]
    }
   ],
   "source": [
    "import json\n",
    "import pandas as pd\n",
    "from google_play_scraper import reviews, Sort\n",
    "\n",
    "\n",
    "app_package_name = 'com.okcupid.okcupid'\n",
    "\n",
    "\n",
    "result, continuation_token = reviews(\n",
    "    app_package_name,\n",
    "    lang='en',  \n",
    "    country='us', \n",
    "    sort=Sort.NEWEST, \n",
    "    count=200000\n",
    ")\n",
    "\n",
    "\n",
    "df = pd.DataFrame(result)\n",
    "\n",
    "df.to_excel('reviews_okcupid.xlsx', index=False)\n",
    "\n",
    "print(\"Reviews saved\")\n"
   ]
  },
  {
   "cell_type": "code",
   "execution_count": null,
   "id": "8d80b281-f37e-4577-80ed-75fe863b0a1b",
   "metadata": {},
   "outputs": [],
   "source": []
  }
 ],
 "metadata": {
  "kernelspec": {
   "display_name": "Python 3 (ipykernel)",
   "language": "python",
   "name": "python3"
  },
  "language_info": {
   "codemirror_mode": {
    "name": "ipython",
    "version": 3
   },
   "file_extension": ".py",
   "mimetype": "text/x-python",
   "name": "python",
   "nbconvert_exporter": "python",
   "pygments_lexer": "ipython3",
   "version": "3.11.7"
  }
 },
 "nbformat": 4,
 "nbformat_minor": 5
}
